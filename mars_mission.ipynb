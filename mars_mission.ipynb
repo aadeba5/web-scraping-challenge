{
 "metadata": {
  "language_info": {
   "codemirror_mode": {
    "name": "ipython",
    "version": 3
   },
   "file_extension": ".py",
   "mimetype": "text/x-python",
   "name": "python",
   "nbconvert_exporter": "python",
   "pygments_lexer": "ipython3",
   "version": "3.8.5-final"
  },
  "orig_nbformat": 2,
  "kernelspec": {
   "name": "python3",
   "display_name": "Python 3.8.5 64-bit ('base': conda)",
   "metadata": {
    "interpreter": {
     "hash": "5023094fdba31b5aeb61cf4f1d860c5a76c435c685ead279b8a275fbbd45fc41"
    }
   }
  }
 },
 "nbformat": 4,
 "nbformat_minor": 2,
 "cells": [
  {
   "cell_type": "code",
   "execution_count": 8,
   "metadata": {},
   "outputs": [],
   "source": [
    "# Dependencies\n",
    "import os\n",
    "from bs4 import BeautifulSoup as bs\n",
    "from bs4 import BeautifulSoup\n",
    "import requests\n",
    "\n",
    "from splinter import Browser\n",
    "from bs4 import BeautifulSoup\n",
    "from webdriver_manager.chrome import ChromeDriverManager\n",
    "\n",
    " "
   ]
  },
  {
   "cell_type": "code",
   "execution_count": 9,
   "metadata": {},
   "outputs": [],
   "source": [
    "# !pip install urlib2"
   ]
  },
  {
   "cell_type": "code",
   "execution_count": 10,
   "metadata": {},
   "outputs": [
    {
     "output_type": "stream",
     "name": "stderr",
     "text": [
      "[WDM] - ====== WebDriver manager ======\n",
      "[WDM] - Current google-chrome version is 89.0.4389\n",
      "[WDM] - Get LATEST driver version for 89.0.4389\n",
      "\n",
      "\n",
      "[WDM] - Driver [/Users/amusaadebayo/.wdm/drivers/chromedriver/mac64/89.0.4389.23/chromedriver] found in cache\n"
     ]
    }
   ],
   "source": [
    "executable_path = {'executable_path': ChromeDriverManager().install()}\n",
    "browser = Browser('chrome', **executable_path, headless=False)"
   ]
  },
  {
   "cell_type": "code",
   "execution_count": 11,
   "metadata": {},
   "outputs": [],
   "source": [
    "# URL of page to be scraped\n",
    "# url = 'https://webscraper.io/test-sites/e-commerce/allinone/computers/laptops'\n",
    "url = 'https://mars.nasa.gov/news/'\n",
    "\n",
    "browser.visit(url)"
   ]
  },
  {
   "cell_type": "code",
   "execution_count": 13,
   "metadata": {},
   "outputs": [
    {
     "output_type": "execute_result",
     "data": {
      "text/plain": [
       "<Response [200]>"
      ]
     },
     "metadata": {},
     "execution_count": 13
    }
   ],
   "source": [
    "# Retrieve page with the requests module\n",
    "response = requests.get('https://mars.nasa.gov/system/news_items/list_view_images/8896_thumb-320.jpg')\n",
    "\n",
    "response\n"
   ]
  },
  {
   "source": [
    "# Create BeautifulSoup object; parse with 'html.parser'\n",
    "soup = BeautifulSoup(browser.html, 'html.parser')\n"
   ],
   "cell_type": "markdown",
   "metadata": {}
  },
  {
   "cell_type": "code",
   "execution_count": 14,
   "metadata": {},
   "outputs": [],
   "source": [
    "soup = BeautifulSoup(browser.html, 'html.parser')"
   ]
  },
  {
   "cell_type": "code",
   "execution_count": 15,
   "metadata": {
    "tags": [
     "outputPrepend"
    ]
   },
   "outputs": [
    {
     "output_type": "stream",
     "name": "stdout",
     "text": [
      "         <a href=\"/mars-exploration/missions/?category=167\" target=\"_self\">\n                Past\n               </a>\n              </li>\n              <li>\n               <a href=\"/mars-exploration/missions/?category=170\" target=\"_self\">\n                Present\n               </a>\n              </li>\n              <li>\n               <a href=\"/mars-exploration/missions/?category=171\" target=\"_self\">\n                Future\n               </a>\n              </li>\n              <li>\n               <a href=\"/mars-exploration/partners\" target=\"_self\">\n                International Partners\n               </a>\n              </li>\n             </ul>\n            </div>\n           </li>\n          </ul>\n         </div>\n        </div>\n        <div class=\"sitemap_block\" style=\"position: absolute; left: 970px; top: 0px;\">\n         <div class=\"footer_sitemap_item\">\n          <h3 class=\"sitemap_title\">\n           <a href=\"/#more\">\n            More\n           </a>\n          </h3>\n          <ul>\n           <li>\n            <div class=\"global_subnav_container\">\n             <ul class=\"subnav\">\n             </ul>\n            </div>\n           </li>\n          </ul>\n         </div>\n        </div>\n       </div>\n       <div class=\"gradient_line\">\n       </div>\n      </section>\n      <section class=\"lower_footer\">\n       <div class=\"nav_container\">\n        <nav>\n         <ul>\n          <li>\n           <a href=\"http://science.nasa.gov/\" target=\"_blank\">\n            NASA Science Mission Directorate\n           </a>\n          </li>\n          <li>\n           <a href=\"https://www.jpl.nasa.gov/copyrights.php\" target=\"_blank\">\n            Privacy\n           </a>\n          </li>\n          <li>\n           <a href=\"http://www.jpl.nasa.gov/imagepolicy/\" target=\"_blank\">\n            Image Policy\n           </a>\n          </li>\n          <li>\n           <a href=\"https://mars.nasa.gov/feedback/\" target=\"_self\">\n            Feedback\n           </a>\n          </li>\n         </ul>\n        </nav>\n       </div>\n       <div class=\"credits\">\n        <div class=\"footer_brands_top\">\n         <p>\n          Managed by the Mars Exploration Program and the Jet Propulsion Laboratory for NASA’s Science Mission Directorate\n         </p>\n        </div>\n        <!-- .footer_brands -->\n        <!-- %a.jpl{href: \"\", target: \"_blank\"}Institution -->\n        <!-- -->\n        <!-- %a.caltech{href: \"\", target: \"_blank\"}Institution -->\n        <!-- .staff -->\n        <!-- %p -->\n        <!-- - get_staff_for_category(get_field_from_admin_config(:web_staff_category_id)) -->\n        <!-- - @staff.each_with_index do |staff, idx| -->\n        <!-- - unless staff.is_in_footer == 0 -->\n        <!-- = staff.title + \": \" -->\n        <!-- - if staff.contact_link =~ /@/ -->\n        <!-- = mail_to staff.contact_link, staff.name, :subject => \"[#{@site_title}]\" -->\n        <!-- - elsif staff.contact_link.present? -->\n        <!-- = link_to staff.name, staff.contact_link -->\n        <!-- - else -->\n        <!-- = staff.name -->\n        <!-- - unless (idx + 1 == @staff.size) -->\n        <!-- %br -->\n       </div>\n      </section>\n     </div>\n    </footer>\n   </div>\n  </div>\n  <div id=\"_atssh\" style=\"visibility: hidden; height: 1px; width: 1px; position: absolute; top: -9999px; z-index: 100000;\">\n   <iframe id=\"_atssh782\" src=\"https://s7.addthis.com/static/sh.f48a1a04fe8dbf021b4cda1d.html#rand=0.20972113508478807&amp;iit=1617133252170&amp;tmr=load%3D1617133252011%26core%3D1617133252058%26main%3D1617133252166%26ifr%3D1617133252172&amp;cb=0&amp;cdn=0&amp;md=0&amp;kw=Mars%2Cmissions%2CNASA%2Crover%2CCuriosity%2COpportunity%2CInSight%2CMars%20Reconnaissance%20Orbiter%2Cfacts&amp;ab=-&amp;dh=mars.nasa.gov&amp;dr=&amp;du=https%3A%2F%2Fmars.nasa.gov%2Fnews%2F&amp;href=https%3A%2F%2Fmars.nasa.gov%2Fnews%2F&amp;dt=News%20%20%E2%80%93%20NASA%E2%80%99s%20Mars%20Exploration%20Program&amp;dbg=0&amp;cap=tc%3D0%26ab%3D0&amp;inst=1&amp;jsl=1&amp;prod=undefined&amp;lng=en&amp;ogt=image%2Cupdated_time%2Ctype%3Darticle%2Curl%2Ctitle%2Cdescription%2Csite_name&amp;pc=men&amp;pub=ra-5a690e4c1320e328&amp;ssl=1&amp;sid=60637ec43d25acf0&amp;srf=0.01&amp;ver=300&amp;xck=1&amp;xtr=0&amp;og=site_name%3DNASA%25E2%2580%2599s%2520Mars%2520Exploration%2520Program%26description%3DNASA%25E2%2580%2599s%2520real-time%2520portal%2520for%2520Mars%2520exploration%252C%2520featuring%2520the%2520latest%2520news%252C%2520images%252C%2520and%2520discoveries%2520from%2520the%2520Red%2520Planet.%26title%3DNews%2520%2520%25E2%2580%2593%2520NASA%25E2%2580%2599s%2520Mars%2520Exploration%2520Program%26url%3Dhttps%253A%252F%252Fmars.nasa.gov%252Fnews%26type%3Darticle%26updated_time%3D2017-09-22%252019%253A53%253A22%2520UTC%26image%3Dhttps%253A%252F%252Fmars.nasa.gov%252Fsystem%252Fsite_config_values%252Fmeta_share_images%252F1_mars-nasa-gov.jpg&amp;csi=undefined&amp;rev=v8.28.8-wp&amp;ct=1&amp;xld=1&amp;xd=1\" style=\"height: 1px; width: 1px; position: absolute; top: 0px; z-index: 100000; border: 0px; left: 0px;\" title=\"AddThis utility frame\">\n   </iframe>\n  </div>\n  <style id=\"service-icons-0\">\n  </style>\n  <script id=\"_fed_an_ua_tag\" src=\"https://dap.digitalgov.gov/Universal-Federated-Analytics-Min.js?agency=NASA&amp;subagency=JPL-Mars-MEPJPL&amp;pua=UA-9453474-9,UA-118212757-11&amp;dclink=true&amp;sp=searchbox&amp;exts=tif,tiff,wav\" type=\"text/javascript\">\n  </script>\n  <div aria-labelledby=\"at4-share-label\" class=\"addthis-smartlayers at4-visually-hidden addthis-smartlayers-desktop\" role=\"region\">\n   <div id=\"at4-share-label\">\n    AddThis Sharing Sidebar\n   </div>\n   <div class=\"at4-share addthis_32x32_style atss atss-left\" id=\"at4-share\">\n    <a class=\"at-share-btn at-svc-facebook\" role=\"button\" tabindex=\"0\">\n     <span class=\"at4-visually-hidden\">\n      Share to Facebook\n     </span>\n     <span class=\"at-icon-wrapper\" style=\"background-color: rgb(59, 89, 152);\">\n      <svg aria-labelledby=\"at-svg-facebook-1\" class=\"at-icon at-icon-facebook\" role=\"img\" style=\"fill: rgb(255, 255, 255);\" version=\"1.1\" viewbox=\"0 0 32 32\" xmlns=\"http://www.w3.org/2000/svg\" xmlns:xlink=\"http://www.w3.org/1999/xlink\">\n       <title id=\"at-svg-facebook-1\">\n        Facebook\n       </title>\n       <g>\n        <path d=\"M22 5.16c-.406-.054-1.806-.16-3.43-.16-3.4 0-5.733 1.825-5.733 5.17v2.882H9v3.913h3.837V27h4.604V16.965h3.823l.587-3.913h-4.41v-2.5c0-1.123.347-1.903 2.198-1.903H22V5.16z\" fill-rule=\"evenodd\">\n        </path>\n       </g>\n      </svg>\n     </span>\n    </a>\n    <a class=\"at-share-btn at-svc-twitter\" role=\"button\" tabindex=\"0\">\n     <span class=\"at4-visually-hidden\">\n      Share to Twitter\n     </span>\n     <span class=\"at-icon-wrapper\" style=\"background-color: rgb(29, 161, 242);\">\n      <svg aria-labelledby=\"at-svg-twitter-2\" class=\"at-icon at-icon-twitter\" role=\"img\" style=\"fill: rgb(255, 255, 255);\" version=\"1.1\" viewbox=\"0 0 32 32\" xmlns=\"http://www.w3.org/2000/svg\" xmlns:xlink=\"http://www.w3.org/1999/xlink\">\n       <title id=\"at-svg-twitter-2\">\n        Twitter\n       </title>\n       <g>\n        <path d=\"M27.996 10.116c-.81.36-1.68.602-2.592.71a4.526 4.526 0 0 0 1.984-2.496 9.037 9.037 0 0 1-2.866 1.095 4.513 4.513 0 0 0-7.69 4.116 12.81 12.81 0 0 1-9.3-4.715 4.49 4.49 0 0 0-.612 2.27 4.51 4.51 0 0 0 2.008 3.755 4.495 4.495 0 0 1-2.044-.564v.057a4.515 4.515 0 0 0 3.62 4.425 4.52 4.52 0 0 1-2.04.077 4.517 4.517 0 0 0 4.217 3.134 9.055 9.055 0 0 1-5.604 1.93A9.18 9.18 0 0 1 6 23.85a12.773 12.773 0 0 0 6.918 2.027c8.3 0 12.84-6.876 12.84-12.84 0-.195-.005-.39-.014-.583a9.172 9.172 0 0 0 2.252-2.336\" fill-rule=\"evenodd\">\n        </path>\n       </g>\n      </svg>\n     </span>\n    </a>\n    <a class=\"at-share-btn at-svc-reddit\" role=\"button\" tabindex=\"0\">\n     <span class=\"at4-visually-hidden\">\n      Share to Reddit\n     </span>\n     <span class=\"at-icon-wrapper\" style=\"background-color: rgb(255, 87, 0);\">\n      <svg aria-labelledby=\"at-svg-reddit-3\" class=\"at-icon at-icon-reddit\" role=\"img\" style=\"fill: rgb(255, 255, 255);\" version=\"1.1\" viewbox=\"0 0 32 32\" xmlns=\"http://www.w3.org/2000/svg\" xmlns:xlink=\"http://www.w3.org/1999/xlink\">\n       <title id=\"at-svg-reddit-3\">\n        Reddit\n       </title>\n       <g>\n        <path d=\"M27 15.5a2.452 2.452 0 0 1-1.338 2.21c.098.38.147.777.147 1.19 0 1.283-.437 2.47-1.308 3.563-.872 1.092-2.06 1.955-3.567 2.588-1.506.634-3.143.95-4.91.95-1.768 0-3.403-.316-4.905-.95-1.502-.632-2.69-1.495-3.56-2.587-.872-1.092-1.308-2.28-1.308-3.562 0-.388.045-.777.135-1.166a2.47 2.47 0 0 1-1.006-.912c-.253-.4-.38-.842-.38-1.322 0-.678.237-1.26.712-1.744a2.334 2.334 0 0 1 1.73-.726c.697 0 1.29.26 1.78.782 1.785-1.258 3.893-1.928 6.324-2.01l1.424-6.467a.42.42 0 0 1 .184-.26.4.4 0 0 1 .32-.063l4.53 1.006c.147-.306.368-.553.662-.74a1.78 1.78 0 0 1 .97-.278c.508 0 .94.18 1.302.54.36.36.54.796.54 1.31 0 .512-.18.95-.54 1.315-.36.364-.794.546-1.302.546-.507 0-.94-.18-1.295-.54a1.793 1.793 0 0 1-.533-1.308l-4.1-.92-1.277 5.86c2.455.074 4.58.736 6.37 1.985a2.315 2.315 0 0 1 1.757-.757c.68 0 1.256.242 1.73.726.476.484.713 1.066.713 1.744zm-16.868 2.47c0 .513.178.95.534 1.315.356.365.787.547 1.295.547.508 0 .942-.182 1.302-.547.36-.364.54-.802.54-1.315 0-.513-.18-.95-.54-1.31-.36-.36-.794-.54-1.3-.54-.5 0-.93.183-1.29.547a1.79 1.79 0 0 0-.54 1.303zm9.944 4.406c.09-.09.135-.2.135-.323a.444.444 0 0 0-.44-.447c-.124 0-.23.042-.32.124-.336.348-.83.605-1.486.77a7.99 7.99 0 0 1-1.964.248 7.99 7.99 0 0 1-1.964-.248c-.655-.165-1.15-.422-1.486-.77a.456.456 0 0 0-.32-.124.414.414 0 0 0-.306.124.41.41 0 0 0-.135.317.45.45 0 0 0 .134.33c.352.355.837.636 1.455.843.617.207 1.118.33 1.503.366a11.6 11.6 0 0 0 1.117.056c.36 0 .733-.02 1.117-.056.385-.037.886-.16 1.504-.366.62-.207 1.104-.488 1.456-.844zm-.037-2.544c.507 0 .938-.182 1.294-.547.356-.364.534-.802.534-1.315 0-.505-.18-.94-.54-1.303a1.75 1.75 0 0 0-1.29-.546c-.506 0-.94.18-1.3.54-.36.36-.54.797-.54 1.31s.18.95.54 1.315c.36.365.794.547 1.3.547z\" fill-rule=\"evenodd\">\n        </path>\n       </g>\n      </svg>\n     </span>\n    </a>\n    <a class=\"at-share-btn at-svc-email\" role=\"button\" tabindex=\"0\">\n     <span class=\"at4-visually-hidden\">\n      Share to Email\n     </span>\n     <span class=\"at-icon-wrapper\" style=\"background-color: rgb(132, 132, 132);\">\n      <svg aria-labelledby=\"at-svg-email-4\" class=\"at-icon at-icon-email\" role=\"img\" style=\"fill: rgb(255, 255, 255);\" version=\"1.1\" viewbox=\"0 0 32 32\" xmlns=\"http://www.w3.org/2000/svg\" xmlns:xlink=\"http://www.w3.org/1999/xlink\">\n       <title id=\"at-svg-email-4\">\n        Email\n       </title>\n       <g>\n        <g fill-rule=\"evenodd\">\n        </g>\n        <path d=\"M27 22.757c0 1.24-.988 2.243-2.19 2.243H7.19C5.98 25 5 23.994 5 22.757V13.67c0-.556.39-.773.855-.496l8.78 5.238c.782.467 1.95.467 2.73 0l8.78-5.238c.472-.28.855-.063.855.495v9.087z\">\n        </path>\n        <path d=\"M27 9.243C27 8.006 26.02 7 24.81 7H7.19C5.988 7 5 8.004 5 9.243v.465c0 .554.385 1.232.857 1.514l9.61 5.733c.267.16.8.16 1.067 0l9.61-5.733c.473-.283.856-.96.856-1.514v-.465z\">\n        </path>\n       </g>\n      </svg>\n     </span>\n    </a>\n    <a class=\"at-share-btn at-svc-compact\" role=\"button\" tabindex=\"0\">\n     <span class=\"at4-visually-hidden\">\n      More AddThis Share options\n     </span>\n     <span class=\"at-icon-wrapper\" style=\"background-color: rgb(255, 101, 80);\">\n      <svg aria-labelledby=\"at-svg-addthis-5\" class=\"at-icon at-icon-addthis\" role=\"img\" style=\"fill: rgb(255, 255, 255);\" version=\"1.1\" viewbox=\"0 0 32 32\" xmlns=\"http://www.w3.org/2000/svg\" xmlns:xlink=\"http://www.w3.org/1999/xlink\">\n       <title id=\"at-svg-addthis-5\">\n        AddThis\n       </title>\n       <g>\n        <path d=\"M18 14V8h-4v6H8v4h6v6h4v-6h6v-4h-6z\" fill-rule=\"evenodd\">\n        </path>\n       </g>\n      </svg>\n     </span>\n    </a>\n    <div class=\"at-custom-sidebar-counter\" style=\"width: 48px; overflow-wrap: break-word;\">\n     <div class=\"at-custom-sidebar-count\" style=\"color: rgb(34, 34, 34);\">\n     </div>\n     <div class=\"at-custom-sidebar-text\" style=\"color: rgb(34, 34, 34);\">\n      SHARES\n     </div>\n    </div>\n    <div class=\"at-share-close-control ats-transparent at4-hide-content at4-show\" id=\"at4-scc\" title=\"Hide\">\n     <div class=\"at4-arrow at-left\">\n      Hide\n     </div>\n    </div>\n   </div>\n   <div class=\"at-share-open-control at-share-open-control-left ats-transparent at4-hide\" id=\"at4-soc\" title=\"Show\">\n    <div class=\"at4-arrow at-right\">\n     Show\n    </div>\n   </div>\n  </div>\n  <div aria-labelledby=\"at-thankyou-label\" class=\"at4-thankyou at4-thankyou-background at4-hide ats-transparent at4-thankyou-desktop addthis-smartlayers addthis-animated fadeIn at4-show\" id=\"at4-thankyou\" role=\"dialog\">\n   <div class=\"at4lb-inner\">\n    <button class=\"at4x\" title=\"Close\">\n     Close\n    </button>\n    <a id=\"at4-palogo\">\n     <div>\n      <a class=\"at-branding-logo\" href=\"https://www.addthis.com/website-tools/overview?utm_source=AddThis%20Tools&amp;utm_medium=image\" target=\"_blank\" title=\"Powered by AddThis\">\n       <div class=\"at-branding-icon\">\n       </div>\n       <span class=\"at-branding-addthis\">\n        AddThis\n       </span>\n      </a>\n     </div>\n    </a>\n    <div class=\"at4-thankyou-inner\">\n     <div class=\"thankyou-title\" id=\"at-thankyou-label\">\n     </div>\n     <div class=\"thankyou-description\">\n     </div>\n     <div class=\"at4-thankyou-layer\">\n     </div>\n    </div>\n   </div>\n  </div>\n  <div aria-labelledby=\"at-share-dock-label\" class=\"at-share-dock-outer at4-hide addthis-smartlayers at4-visually-hidden addthis-smartlayers-mobile\" role=\"region\">\n   <div class=\"at4-hide\" id=\"at-share-dock-label\">\n    AddThis Sharing\n   </div>\n   <div class=\"at-share-dock atss atss-bottom at-shfs-small addthis-animated slideInUp at4-show at4-hide\" id=\"at-share-dock\">\n    <a class=\"at4-count\" href=\"#\" style=\"width: 16.6667%;\">\n     <span class=\"at4-counter\">\n     </span>\n     <span class=\"at4-share-label\">\n      SHARES\n     </span>\n    </a>\n    <a class=\"at-share-btn at-svc-facebook\" role=\"button\" style=\"width: 16.6667%;\" tabindex=\"0\" title=\"Facebook\">\n     <span class=\"at-icon-wrapper\" style=\"background-color: rgb(59, 89, 152);\">\n      <svg alt=\"Facebook\" aria-labelledby=\"at-svg-facebook-6\" class=\"at-icon at-icon-facebook\" role=\"img\" style=\"fill: rgb(255, 255, 255); width: 24px; height: 24px;\" title=\"Facebook\" version=\"1.1\" viewbox=\"0 0 32 32\" xmlns=\"http://www.w3.org/2000/svg\" xmlns:xlink=\"http://www.w3.org/1999/xlink\">\n       <title id=\"at-svg-facebook-6\">\n        Facebook\n       </title>\n       <g>\n        <path d=\"M22 5.16c-.406-.054-1.806-.16-3.43-.16-3.4 0-5.733 1.825-5.733 5.17v2.882H9v3.913h3.837V27h4.604V16.965h3.823l.587-3.913h-4.41v-2.5c0-1.123.347-1.903 2.198-1.903H22V5.16z\" fill-rule=\"evenodd\">\n        </path>\n       </g>\n      </svg>\n     </span>\n    </a>\n    <a class=\"at-share-btn at-svc-twitter\" role=\"button\" style=\"width: 16.6667%;\" tabindex=\"0\" title=\"Twitter\">\n     <span class=\"at-icon-wrapper\" style=\"background-color: rgb(29, 161, 242);\">\n      <svg alt=\"Twitter\" aria-labelledby=\"at-svg-twitter-7\" class=\"at-icon at-icon-twitter\" role=\"img\" style=\"fill: rgb(255, 255, 255); width: 24px; height: 24px;\" title=\"Twitter\" version=\"1.1\" viewbox=\"0 0 32 32\" xmlns=\"http://www.w3.org/2000/svg\" xmlns:xlink=\"http://www.w3.org/1999/xlink\">\n       <title id=\"at-svg-twitter-7\">\n        Twitter\n       </title>\n       <g>\n        <path d=\"M27.996 10.116c-.81.36-1.68.602-2.592.71a4.526 4.526 0 0 0 1.984-2.496 9.037 9.037 0 0 1-2.866 1.095 4.513 4.513 0 0 0-7.69 4.116 12.81 12.81 0 0 1-9.3-4.715 4.49 4.49 0 0 0-.612 2.27 4.51 4.51 0 0 0 2.008 3.755 4.495 4.495 0 0 1-2.044-.564v.057a4.515 4.515 0 0 0 3.62 4.425 4.52 4.52 0 0 1-2.04.077 4.517 4.517 0 0 0 4.217 3.134 9.055 9.055 0 0 1-5.604 1.93A9.18 9.18 0 0 1 6 23.85a12.773 12.773 0 0 0 6.918 2.027c8.3 0 12.84-6.876 12.84-12.84 0-.195-.005-.39-.014-.583a9.172 9.172 0 0 0 2.252-2.336\" fill-rule=\"evenodd\">\n        </path>\n       </g>\n      </svg>\n     </span>\n    </a>\n    <a class=\"at-share-btn at-svc-reddit\" role=\"button\" style=\"width: 16.6667%;\" tabindex=\"0\" title=\"Reddit\">\n     <span class=\"at-icon-wrapper\" style=\"background-color: rgb(255, 87, 0);\">\n      <svg alt=\"Reddit\" aria-labelledby=\"at-svg-reddit-8\" class=\"at-icon at-icon-reddit\" role=\"img\" style=\"fill: rgb(255, 255, 255); width: 24px; height: 24px;\" title=\"Reddit\" version=\"1.1\" viewbox=\"0 0 32 32\" xmlns=\"http://www.w3.org/2000/svg\" xmlns:xlink=\"http://www.w3.org/1999/xlink\">\n       <title id=\"at-svg-reddit-8\">\n        Reddit\n       </title>\n       <g>\n        <path d=\"M27 15.5a2.452 2.452 0 0 1-1.338 2.21c.098.38.147.777.147 1.19 0 1.283-.437 2.47-1.308 3.563-.872 1.092-2.06 1.955-3.567 2.588-1.506.634-3.143.95-4.91.95-1.768 0-3.403-.316-4.905-.95-1.502-.632-2.69-1.495-3.56-2.587-.872-1.092-1.308-2.28-1.308-3.562 0-.388.045-.777.135-1.166a2.47 2.47 0 0 1-1.006-.912c-.253-.4-.38-.842-.38-1.322 0-.678.237-1.26.712-1.744a2.334 2.334 0 0 1 1.73-.726c.697 0 1.29.26 1.78.782 1.785-1.258 3.893-1.928 6.324-2.01l1.424-6.467a.42.42 0 0 1 .184-.26.4.4 0 0 1 .32-.063l4.53 1.006c.147-.306.368-.553.662-.74a1.78 1.78 0 0 1 .97-.278c.508 0 .94.18 1.302.54.36.36.54.796.54 1.31 0 .512-.18.95-.54 1.315-.36.364-.794.546-1.302.546-.507 0-.94-.18-1.295-.54a1.793 1.793 0 0 1-.533-1.308l-4.1-.92-1.277 5.86c2.455.074 4.58.736 6.37 1.985a2.315 2.315 0 0 1 1.757-.757c.68 0 1.256.242 1.73.726.476.484.713 1.066.713 1.744zm-16.868 2.47c0 .513.178.95.534 1.315.356.365.787.547 1.295.547.508 0 .942-.182 1.302-.547.36-.364.54-.802.54-1.315 0-.513-.18-.95-.54-1.31-.36-.36-.794-.54-1.3-.54-.5 0-.93.183-1.29.547a1.79 1.79 0 0 0-.54 1.303zm9.944 4.406c.09-.09.135-.2.135-.323a.444.444 0 0 0-.44-.447c-.124 0-.23.042-.32.124-.336.348-.83.605-1.486.77a7.99 7.99 0 0 1-1.964.248 7.99 7.99 0 0 1-1.964-.248c-.655-.165-1.15-.422-1.486-.77a.456.456 0 0 0-.32-.124.414.414 0 0 0-.306.124.41.41 0 0 0-.135.317.45.45 0 0 0 .134.33c.352.355.837.636 1.455.843.617.207 1.118.33 1.503.366a11.6 11.6 0 0 0 1.117.056c.36 0 .733-.02 1.117-.056.385-.037.886-.16 1.504-.366.62-.207 1.104-.488 1.456-.844zm-.037-2.544c.507 0 .938-.182 1.294-.547.356-.364.534-.802.534-1.315 0-.505-.18-.94-.54-1.303a1.75 1.75 0 0 0-1.29-.546c-.506 0-.94.18-1.3.54-.36.36-.54.797-.54 1.31s.18.95.54 1.315c.36.365.794.547 1.3.547z\" fill-rule=\"evenodd\">\n        </path>\n       </g>\n      </svg>\n     </span>\n    </a>\n    <a class=\"at-share-btn at-svc-email\" role=\"button\" style=\"width: 16.6667%;\" tabindex=\"0\" title=\"Email\">\n     <span class=\"at-icon-wrapper\" style=\"background-color: rgb(132, 132, 132);\">\n      <svg alt=\"Email\" aria-labelledby=\"at-svg-email-9\" class=\"at-icon at-icon-email\" role=\"img\" style=\"fill: rgb(255, 255, 255); width: 24px; height: 24px;\" title=\"Email\" version=\"1.1\" viewbox=\"0 0 32 32\" xmlns=\"http://www.w3.org/2000/svg\" xmlns:xlink=\"http://www.w3.org/1999/xlink\">\n       <title id=\"at-svg-email-9\">\n        Email\n       </title>\n       <g>\n        <g fill-rule=\"evenodd\">\n        </g>\n        <path d=\"M27 22.757c0 1.24-.988 2.243-2.19 2.243H7.19C5.98 25 5 23.994 5 22.757V13.67c0-.556.39-.773.855-.496l8.78 5.238c.782.467 1.95.467 2.73 0l8.78-5.238c.472-.28.855-.063.855.495v9.087z\">\n        </path>\n        <path d=\"M27 9.243C27 8.006 26.02 7 24.81 7H7.19C5.988 7 5 8.004 5 9.243v.465c0 .554.385 1.232.857 1.514l9.61 5.733c.267.16.8.16 1.067 0l9.61-5.733c.473-.283.856-.96.856-1.514v-.465z\">\n        </path>\n       </g>\n      </svg>\n     </span>\n    </a>\n    <a class=\"at-share-btn at-svc-compact\" role=\"button\" style=\"width: 16.6667%;\" tabindex=\"0\" title=\"More\">\n     <span class=\"at-icon-wrapper\" style=\"background-color: rgb(255, 101, 80);\">\n      <svg alt=\"More\" aria-labelledby=\"at-svg-addthis-10\" class=\"at-icon at-icon-addthis\" role=\"img\" style=\"fill: rgb(255, 255, 255); width: 24px; height: 24px;\" title=\"More\" version=\"1.1\" viewbox=\"0 0 32 32\" xmlns=\"http://www.w3.org/2000/svg\" xmlns:xlink=\"http://www.w3.org/1999/xlink\">\n       <title id=\"at-svg-addthis-10\">\n        AddThis\n       </title>\n       <g>\n        <path d=\"M18 14V8h-4v6H8v4h6v6h4v-6h6v-4h-6z\" fill-rule=\"evenodd\">\n        </path>\n       </g>\n      </svg>\n     </span>\n    </a>\n   </div>\n  </div>\n </body>\n</html>\n"
     ]
    }
   ],
   "source": [
    "# Examine the results, then determine element that contains sought info\n",
    "print(soup.prettify())"
   ]
  },
  {
   "cell_type": "code",
   "execution_count": 24,
   "metadata": {},
   "outputs": [
    {
     "output_type": "execute_result",
     "data": {
      "text/plain": [
       "\"NASA's Curiosity Mars Rover Takes Selfie With 'Mont Mercou'\""
      ]
     },
     "metadata": {},
     "execution_count": 24
    }
   ],
   "source": [
    "news_title = soup.find(\"li\", class_ =\"slide\")\n",
    "news_title_text = news_title.find(\"div\",class_=\"content_title\").find(\"a\").text\n",
    "news_title_text"
   ]
  },
  {
   "cell_type": "code",
   "execution_count": 26,
   "metadata": {},
   "outputs": [
    {
     "output_type": "stream",
     "name": "stdout",
     "text": [
      "https://mars.nasa.gov/news/system/news_items/list_view_images/8896_thumb-320.jpg\n"
     ]
    }
   ],
   "source": [
    "\n",
    "print(url + 'system/news_items/list_view_images/8896_thumb-320.jpg')"
   ]
  },
  {
   "cell_type": "code",
   "execution_count": 27,
   "metadata": {},
   "outputs": [
    {
     "output_type": "execute_result",
     "data": {
      "text/plain": [
       "\"The rover also snapped a pair of panoramas to create a 3D view of the stark cliff face featured in the selfie.NASA's Curiosity Mars Rover Takes Selfie With 'Mont Mercou'March 30, 2021NASA's Curiosity Mars Rover Takes Selfie With 'Mont Mercou'The rover also snapped a pair of panoramas to create a 3D view of the stark cliff face featured in the selfie.\""
      ]
     },
     "metadata": {},
     "execution_count": 27
    }
   ],
   "source": [
    "#2.Scrape the [NASA Mars News Site](https://mars.nasa.gov/news/) and collect the latest News Paragraph Text. Assign the text to variables that you can reference later.\n",
    "\n",
    "news_p = soup.find(\"li\", class_ =\"slide\").text\n",
    "news_p"
   ]
  },
  {
   "cell_type": "code",
   "execution_count": 56,
   "metadata": {},
   "outputs": [
    {
     "output_type": "execute_result",
     "data": {
      "text/plain": [
       "<img alt=\"More\" src=\"/assets/overlay-arrow.png\"/>"
      ]
     },
     "metadata": {},
     "execution_count": 56
    }
   ],
   "source": [
    "imagetag = soup.find(\"li\", class_ =\"slide\")\n",
    "img_tag = imagetag.find(\"img\")\n",
    "img_tag"
   ]
  },
  {
   "cell_type": "code",
   "execution_count": 21,
   "metadata": {},
   "outputs": [
    {
     "output_type": "execute_result",
     "data": {
      "text/plain": [
       "\"NASA's Curiosity Mars Rover Takes Selfie With 'Mont Mercou'\""
      ]
     },
     "metadata": {},
     "execution_count": 21
    }
   ],
   "source": [
    "titletag = soup.find(\"li\", class_ =\"slide\")\n",
    "titletag_text = titletag.find(\"div\",class_=\"content_title\").find(\"a\").text\n",
    "titletag_text"
   ]
  },
  {
   "cell_type": "code",
   "execution_count": 60,
   "metadata": {},
   "outputs": [],
   "source": [
    "# JPL Mars Space Images - Featured Image\n",
    "\n",
    "#* Mars Facts\n",
    "\n",
    "\n",
    "# Visit the Mars Facts webpage here and use Pandas to scrape the table containing facts about the planet including Diameter, Mass, etc.\n",
    "\n",
    "\n",
    "# Use Pandas to convert the data to a HTML table string."
   ]
  },
  {
   "cell_type": "code",
   "execution_count": 61,
   "metadata": {},
   "outputs": [],
   "source": [
    "from splinter import Browser\n",
    "from bs4 import BeautifulSoup\n",
    "from webdriver_manager.chrome import ChromeDriverManager"
   ]
  },
  {
   "cell_type": "code",
   "execution_count": 62,
   "metadata": {},
   "outputs": [
    {
     "output_type": "stream",
     "name": "stderr",
     "text": [
      "[WDM] - ====== WebDriver manager ======\n",
      "\n",
      "\n",
      "[WDM] - Current google-chrome version is 89.0.4389\n",
      "[WDM] - Get LATEST driver version for 89.0.4389\n",
      "[WDM] - Driver [/Users/amusaadebayo/.wdm/drivers/chromedriver/mac64/89.0.4389.23/chromedriver] found in cache\n"
     ]
    }
   ],
   "source": [
    "executable_path = {'executable_path': ChromeDriverManager().install()}\n",
    "browser = Browser('chrome', **executable_path, headless=False)"
   ]
  },
  {
   "cell_type": "code",
   "execution_count": 63,
   "metadata": {},
   "outputs": [],
   "source": [
    "url = 'https://data-class-jpl-space.s3.amazonaws.com/JPL_Space/index.html'\n",
    "\n",
    "browser.visit(url)"
   ]
  },
  {
   "cell_type": "code",
   "execution_count": 64,
   "metadata": {},
   "outputs": [
    {
     "output_type": "execute_result",
     "data": {
      "text/plain": [
       "<Response [200]>"
      ]
     },
     "metadata": {},
     "execution_count": 64
    }
   ],
   "source": [
    "response1 = requests.get(url)\n",
    "response"
   ]
  },
  {
   "cell_type": "code",
   "execution_count": 65,
   "metadata": {},
   "outputs": [],
   "source": [
    "soup1 = BeautifulSoup(browser.html, 'html.parser')"
   ]
  },
  {
   "cell_type": "code",
   "execution_count": 66,
   "metadata": {},
   "outputs": [
    {
     "output_type": "stream",
     "name": "stdout",
     "text": [
      "<html class=\"\">\n <head>\n  <meta charset=\"utf-8\"/>\n  <meta content=\"width=device-width, initial-scale=1\" name=\"viewport\"/>\n  <link href=\"https://maxcdn.bootstrapcdn.com/bootstrap/4.0.0/css/bootstrap.min.css\" rel=\"stylesheet\"/>\n  <!-- <link rel=\"stylesheet\" type=\"text/css\" href=\"css/font.css\"> -->\n  <link href=\"css/app.css\" rel=\"stylesheet\" type=\"text/css\"/>\n  <link href=\"https://stackpath.bootstrapcdn.com/font-awesome/4.7.0/css/font-awesome.min.css\" rel=\"stylesheet\" type=\"text/css\"/>\n  <title>\n   Space Image\n  </title>\n  <style type=\"text/css\">\n   .fancybox-margin{margin-right:0px;}\n  </style>\n </head>\n <body>\n  <div class=\"header\">\n   <nav class=\"navbar navbar-expand-lg\">\n    <a class=\"navbar-brand\" href=\"#\">\n     <img id=\"logo\" src=\"image/nasa.png\"/>\n     <span class=\"logo\">\n      Jet Propulsion Laboratory\n     </span>\n     <span class=\"logo1\">\n      California Institute of Technology\n     </span>\n    </a>\n    <button aria-controls=\"navbarNav\" aria-expanded=\"false\" aria-label=\"Toggle navigation\" class=\"navbar-toggler\" data-target=\"#navbarNav\" data-toggle=\"collapse\" type=\"button\">\n     <span class=\"navbar-toggler-icon\">\n     </span>\n    </button>\n    <div class=\"collapse navbar-collapse justify-content-end\" id=\"navbarNav\">\n     <ul class=\"navbar-nav\">\n      <li class=\"nav-item active\">\n       <a class=\"nav-link\" href=\"#\">\n        <i aria-hidden=\"true\" class=\"fa fa-bars\">\n        </i>\n        MENU\n        <i aria-hidden=\"true\" class=\"fa fa-search\">\n        </i>\n       </a>\n      </li>\n     </ul>\n    </div>\n   </nav>\n   <div class=\"floating_text_area\">\n    <h2 class=\"brand_title\">\n     FEATURED IMAGE\n    </h2>\n    <h1 class=\"media_feature_title\">\n     Dusty Space Cloud\n    </h1>\n    <br/>\n    <a class=\"showimg fancybox-thumbs\" href=\"image/featured/mars1.jpg\" target=\"_blank\">\n     <button class=\"btn btn-outline-light\">\n      FULL IMAGE\n     </button>\n    </a>\n   </div>\n   <img class=\"headerimage fade-in\" src=\"image/featured/mars1.jpg\"/>\n  </div>\n  <div class=\"search sticky\">\n   <div class=\"col-md-12\">\n    <div class=\"row\">\n     <div class=\"col-md-6\">\n      <input name=\"Search\" placeholder=\"Search\" type=\"text\"/>\n     </div>\n     <div class=\"col-md-6\">\n      <select aria-label=\"Default select example\" class=\"form-select\" id=\"options\">\n       <option onchange=\"0\" selected=\"\">\n        Mars\n       </option>\n       <!-- <option data-filter=\"sun\" class=\"button\">Mars</option> -->\n       <option class=\"button\" data-filter=\"Sun\">\n        Sun\n       </option>\n       <option class=\"button\" data-filter=\"earth\">\n        Earth\n       </option>\n       <option class=\"button\" data-filter=\"ida\">\n        Ida\n       </option>\n       <option class=\"button\" data-filter=\"jupiter\">\n        Jupiter\n       </option>\n       <option class=\"button\" data-filter=\"venus\">\n        Venus\n       </option>\n      </select>\n     </div>\n    </div>\n   </div>\n  </div>\n  <div class=\"container mt-5\">\n   <div class=\"col-md-12\">\n    <div class=\"row\">\n     <div class=\"col-md-6\">\n      <h1>\n       Images\n      </h1>\n     </div>\n     <div class=\"col-md-6\" id=\"icon\">\n      <div class=\"icon2\">\n      </div>\n      <div class=\"icon1\">\n      </div>\n     </div>\n    </div>\n   </div>\n   <!-- first div -->\n   <div class=\"div1\" id=\"filter\">\n    <div class=\"thmbgroup\">\n     <a class=\"fancybox-thumbs\" data-fancybox-group=\"thumb\" href=\"image/mars/Icaria Fossae7.jpg\">\n      <div class=\"thmb\">\n       <img alt=\"\" class=\"thumbimg\" src=\"image/mars/Icaria Fossae7.jpg\"/>\n       <p class=\"thumbcontent\">\n        January 1, 2020\n        <br/>\n        Icaria Fossae7\n       </p>\n      </div>\n     </a>\n     <a class=\"fancybox-thumbs\" data-fancybox-group=\"thumb\" href=\"image/mars/Proctor Crater Dunes 7.jpg\">\n      <div class=\"thmb\">\n       <img alt=\"\" class=\"thumbimg\" src=\"image/mars/Proctor Crater Dunes 7.jpg\"/>\n       <p class=\"thumbcontent\">\n        December 31, 2020\n        <br/>\n        Proctor Crater Dunes\n       </p>\n      </div>\n     </a>\n     <a class=\"fancybox-thumbs\" data-fancybox-group=\"thumb\" href=\"image/mars/Icaria Fossae7.jpg\">\n      <div class=\"thmb\">\n       <img alt=\"\" class=\"thumbimg\" src=\"image/mars/Icaria Fossae7.jpg\"/>\n       <p class=\"thumbcontent\">\n        December 31, 2020\n        <br/>\n        Icaria Fossae\n       </p>\n      </div>\n     </a>\n     <a class=\"fancybox-thumbs\" data-fancybox-group=\"thumb\" href=\"image/mars/Proctor Crater Dunes 7.jpg\">\n      <div class=\"thmb\">\n       <img alt=\"\" class=\"thumbimg\" src=\"image/mars/Proctor Crater Dunes 7.jpg\"/>\n       <p class=\"thumbcontent\">\n        December 29, 2020\n        <br/>\n        Proctor Crater Dunes\n       </p>\n      </div>\n     </a>\n     <a class=\"fancybox-thumbs\" data-fancybox-group=\"thumb\" href=\"image/mars/Proctor Crater Dunes 7.jpg\">\n      <div class=\"thmb\">\n       <img alt=\"\" class=\"thumbimg\" src=\"image/mars/Proctor Crater Dunes 7.jpg\"/>\n       <p class=\"thumbcontent\">\n        December 28, 2020\n        <br/>\n        roctor Crater Dunes\n       </p>\n      </div>\n     </a>\n     <a class=\"fancybox-thumbs\" data-fancybox-group=\"thumb\" href=\"image/mars/Icaria Fossae7.jpg\">\n      <div class=\"thmb\">\n       <img alt=\"\" class=\"thumbimg\" src=\"image/mars/Icaria Fossae7.jpg\"/>\n       <p class=\"thumbcontent\">\n        December 22, 2020\n        <br/>\n        Icaria Fossae\n       </p>\n      </div>\n     </a>\n     <a class=\"fancybox-thumbs\" data-fancybox-group=\"thumb\" href=\"image/mars/Icaria Fossae.jpg\">\n      <div class=\"thmb\">\n       <img alt=\"\" class=\"thumbimg\" src=\"image/mars/Icaria Fossae.jpg\"/>\n       <p class=\"thumbcontent\">\n        December 21, 2020\n        <br/>\n        Icaria Fossae\n       </p>\n      </div>\n     </a>\n     <a class=\"fancybox-thumbs\" data-fancybox-group=\"thumb\" href=\"image/mars/Ariadnes Colles4.jpg\">\n      <div class=\"thmb\">\n       <img alt=\"\" class=\"thumbimg\" src=\"image/mars/Ariadnes Colles4.jpg\"/>\n       <p class=\"thumbcontent\">\n        December 18, 2020\n        <br/>\n        Ariadnes Colles\n       </p>\n      </div>\n     </a>\n     <a class=\"fancybox-thumbs\" data-fancybox-group=\"thumb\" href=\"image/mars/Niger Vallis.jpg\">\n      <div class=\"thmb\">\n       <img alt=\"\" class=\"thumbimg\" src=\"image/mars/Niger Vallis.jpg\"/>\n       <p class=\"thumbcontent\">\n        December 17, 2020\n        <br/>\n        Niger Vallis\n       </p>\n      </div>\n     </a>\n     <a class=\"fancybox-thumbs\" data-fancybox-group=\"thumb\" href=\"image/mars/Proctor Crater Dunes.jpg\">\n      <div class=\"thmb\">\n       <img alt=\"\" class=\"thumbimg\" src=\"image/mars/Proctor Crater Dunes.jpg\"/>\n       <p class=\"thumbcontent\">\n        December 16, 2020\n        <br/>\n        Proctor Crater Dunes\n       </p>\n      </div>\n     </a>\n     <a class=\"fancybox-thumbs\" data-fancybox-group=\"thumb\" href=\"image/mars/Niger Vallis.jpg\">\n      <div class=\"thmb\">\n       <img alt=\"\" class=\"thumbimg\" src=\"image/mars/Niger Vallis.jpg\"/>\n       <p class=\"thumbcontent\">\n        December 15, 2020\n        <br/>\n        Niger Vallis\n       </p>\n      </div>\n     </a>\n     <a class=\"fancybox-thumbs\" data-fancybox-group=\"thumb\" href=\"image/mars/Daedalia Planum.jpg\">\n      <div class=\"thmb\">\n       <img alt=\"\" class=\"thumbimg\" src=\"image/mars/Daedalia Planum.jpg\"/>\n       <p class=\"thumbcontent\">\n        December 11, 2020\n        <br/>\n        Daedalia Planum\n       </p>\n      </div>\n     </a>\n     <a class=\"fancybox-thumbs\" data-fancybox-group=\"thumb\" href=\"image/mars/Sirenum Fossae.jpg\">\n      <div class=\"thmb\">\n       <img alt=\"\" class=\"thumbimg\" src=\"image/mars/Sirenum Fossae.jpg\"/>\n       <p class=\"thumbcontent\">\n        November,11, 2020\n        <br/>\n        Sirenum Fossae\n       </p>\n      </div>\n     </a>\n     <a class=\"fancybox-thumbs\" data-fancybox-group=\"thumb\" href=\"image/mars/Ariadnes Colles4.jpg\">\n      <div class=\"thmb\">\n       <img alt=\"\" class=\"thumbimg\" src=\"image/mars/Ariadnes Colles4.jpg\"/>\n       <p class=\"thumbcontent\">\n        November,13, 2020\n        <br/>\n        Ariadnes Colles\n       </p>\n      </div>\n     </a>\n     <a class=\"fancybox-thumbs\" data-fancybox-group=\"thumb\" href=\"image/mars/South Polar Cap.jpg\">\n      <div class=\"thmb\">\n       <img alt=\"\" class=\"thumbimg\" src=\"image/mars/South Polar Cap.jpg\"/>\n       <p class=\"thumbcontent\">\n        November,14, 2020\n        <br/>\n        South Polar Cap\n       </p>\n      </div>\n     </a>\n     <a class=\"fancybox-thumbs\" data-fancybox-group=\"thumb\" href=\"image/mars/Daedalia Planum.jpg\">\n      <div class=\"thmb\">\n       <img alt=\"\" class=\"thumbimg\" src=\"image/mars/Daedalia Planum.jpg\"/>\n       <p class=\"thumbcontent\">\n        November,17, 2020\n        <br/>\n        Daedalia Planum\n       </p>\n      </div>\n     </a>\n     <a class=\"fancybox-thumbs\" data-fancybox-group=\"thumb\" href=\"image/mars/Ariadnes Colles3.jpg\">\n      <div class=\"thmb\">\n       <img alt=\"\" class=\"thumbimg\" src=\"image/mars/Ariadnes Colles3.jpg\"/>\n       <p class=\"thumbcontent\">\n        November,11, 2020\n        <br/>\n        Ariadnes Colles\n       </p>\n      </div>\n     </a>\n     <a class=\"fancybox-thumbs\" data-fancybox-group=\"thumb\" href=\"image/mars/Atlantis Chaos.jpg\">\n      <div class=\"thmb\">\n       <img alt=\"\" class=\"thumbimg\" src=\"image/mars/Atlantis Chaos.jpg\"/>\n       <p class=\"thumbcontent\">\n        November,09, 2020\n        <br/>\n        Atlantis Chaos\n       </p>\n      </div>\n     </a>\n     <a class=\"fancybox-thumbs\" data-fancybox-group=\"thumb\" href=\"image/mars/Daedalia Planum.jpg\">\n      <div class=\"thmb\">\n       <img alt=\"\" class=\"thumbimg\" src=\"image/mars/Daedalia Planum.jpg\"/>\n       <p class=\"thumbcontent\">\n        January 1, 2020\n        <br/>\n        Daedalia Planum\n       </p>\n      </div>\n     </a>\n     <a class=\"fancybox-thumbs\" data-fancybox-group=\"thumb\" href=\"image/mars/Icaria Fossae.jpg\">\n      <div class=\"thmb\">\n       <img alt=\"\" class=\"thumbimg\" src=\"image/mars/Icaria Fossae.jpg\"/>\n       <p class=\"thumbcontent\">\n        January 1, 2020\n        <br/>\n        Icaria Fossae\n       </p>\n      </div>\n     </a>\n     <a class=\"fancybox-thumbs\" data-fancybox-group=\"thumb\" href=\"image/mars/Niger Vallis.jpg\">\n      <div class=\"thmb\">\n       <img alt=\"\" class=\"thumbimg\" src=\"image/mars/Niger Vallis.jpg\"/>\n       <p class=\"thumbcontent\">\n        January 1, 2020\n        <br/>\n        Niger Vallis\n       </p>\n      </div>\n     </a>\n     <a class=\"fancybox-thumbs\" data-fancybox-group=\"thumb\" href=\"image/mars/Proctor Crater Dunes.jpg\">\n      <div class=\"thmb\">\n       <img alt=\"\" class=\"thumbimg\" src=\"image/mars/Proctor Crater Dunes.jpg\"/>\n       <p class=\"thumbcontent\">\n        January 1, 2020\n        <br/>\n        Proctor Crater Dunes\n       </p>\n      </div>\n     </a>\n     <a class=\"fancybox-thumbs\" data-fancybox-group=\"thumb\" href=\"image/mars/Reull Vallis.jpg\">\n      <div class=\"thmb\">\n       <img alt=\"\" class=\"thumbimg\" src=\"image/mars/Reull Vallis.jpg\"/>\n       <p class=\"thumbcontent\">\n        January 1, 2020\n        <br/>\n        Reull Vallis\n       </p>\n      </div>\n     </a>\n     <a class=\"fancybox-thumbs\" data-fancybox-group=\"thumb\" href=\"image/mars/Ariadnes Colles3.jpg\">\n      <div class=\"thmb\">\n       <img alt=\"\" class=\"thumbimg\" src=\"image/mars/Ariadnes Colles3.jpg\"/>\n       <p class=\"thumbcontent\">\n        January 1, 2020\n        <br/>\n        Ariadnes Colles\n       </p>\n      </div>\n     </a>\n     <a class=\"fancybox-thumbs\" data-fancybox-group=\"thumb\" href=\"image/mars/Sirenum Fossae.jpg\">\n      <div class=\"thmb\">\n       <img alt=\"\" class=\"thumbimg\" src=\"image/mars/Sirenum Fossae.jpg\"/>\n       <p class=\"thumbcontent\">\n        January 1, 2020\n        <br/>\n        Sirenum Fossae\n       </p>\n      </div>\n     </a>\n     <a class=\"fancybox-thumbs\" data-fancybox-group=\"thumb\" href=\"image/mars/South Polar Cap.jpg\">\n      <div class=\"thmb\">\n       <img alt=\"\" class=\"thumbimg\" src=\"image/mars/South Polar Cap.jpg\"/>\n       <p class=\"thumbcontent\">\n        January 1, 2020\n        <br/>\n        South Polar Cap\n       </p>\n      </div>\n     </a>\n     <a class=\"fancybox-thumbs\" data-fancybox-group=\"thumb\" href=\"image/mars/Niger Vallis.jpg\">\n      <div class=\"thmb\">\n       <img alt=\"\" class=\"thumbimg\" src=\"image/mars/Niger Vallis.jpg\"/>\n       <p class=\"thumbcontent\">\n        January 1, 2020\n        <br/>\n        Niger Vallis\n       </p>\n      </div>\n     </a>\n     <a class=\"fancybox-thumbs\" data-fancybox-group=\"thumb\" href=\"image/mars/Daedalia Planum.jpg\">\n      <div class=\"thmb\">\n       <img alt=\"\" class=\"thumbimg\" src=\"image/mars/Daedalia Planum.jpg\"/>\n       <p class=\"thumbcontent\">\n        January 1, 2020\n        <br/>\n        Daedalia Planum\n       </p>\n      </div>\n     </a>\n     <a class=\"fancybox-thumbs\" data-fancybox-group=\"thumb\" href=\"image/mars/Icaria Fossae.jpg\">\n      <div class=\"thmb\">\n       <img alt=\"\" class=\"thumbimg\" src=\"image/mars/Icaria Fossae.jpg\"/>\n       <p class=\"thumbcontent\">\n        January 1, 2020\n        <br/>\n        Icaria Fossae\n       </p>\n      </div>\n     </a>\n     <a class=\"fancybox-thumbs\" data-fancybox-group=\"thumb\" href=\"image/mars/Ariadnes Colles4.jpg\">\n      <div class=\"thmb\">\n       <img alt=\"\" class=\"thumbimg\" src=\"image/mars/Ariadnes Colles4.jpg\"/>\n       <p class=\"thumbcontent\">\n        January 1, 2020\n        <br/>\n        Ariadnes Colles\n       </p>\n      </div>\n     </a>\n     <a class=\"fancybox-thumbs\" data-fancybox-group=\"thumb\" href=\"image/mars/South Polar Cap.jpg\">\n      <div class=\"thmb\">\n       <img alt=\"\" class=\"thumbimg\" src=\"image/mars/South Polar Cap.jpg\"/>\n       <p class=\"thumbcontent\">\n        January 1, 2020\n        <br/>\n        South Polar Cap\n       </p>\n      </div>\n     </a>\n     <a class=\"fancybox-thumbs\" data-fancybox-group=\"thumb\" href=\"image/mars/Daedalia Planum.jpg\">\n      <div class=\"thmb\">\n       <img alt=\"\" class=\"thumbimg\" src=\"image/mars/Daedalia Planum.jpg\"/>\n       <p class=\"thumbcontent\">\n        January 1, 2020\n        <br/>\n        Daedalia Planum\n       </p>\n      </div>\n     </a>\n    </div>\n   </div>\n   <!-- first div ends -->\n   <!-- second div starts -->\n   <div class=\"col-md-12 grid-margin\" id=\"column\">\n    <ul class=\"post-list\">\n     <li class=\"post-heading\">\n     </li>\n    </ul>\n   </div>\n   <!-- second div starts -->\n  </div>\n  <div class=\"first imgcontainer mt-3\">\n   <div class=\"col-md-12\">\n    <div class=\"row\">\n     <div class=\"col-md-3\">\n      <img id=\"pic\" src=\"\"/>\n     </div>\n    </div>\n   </div>\n  </div>\n  <!-- end -->\n  <div class=\"module_gallery container\">\n   <div class=\"col-md-12\">\n    <div class=\"row\">\n     <div class=\"col-md-6\">\n      <div class=\"card\">\n       <img alt=\"Card image cap\" class=\"card-img-top\" src=\"https://www.jpl.nasa.gov/assets/images/content/tmp/images/jpl_photojournal(3x1).jpg\"/>\n       <div class=\"card-body\">\n        <h5 class=\"card-title\">\n         JPL Photojournal\n        </h5>\n        <p class=\"card-text\">\n         Access to the full library of publicly released images from various Solar System exploration programs\n        </p>\n       </div>\n      </div>\n     </div>\n     <div class=\"col-md-6\">\n      <div class=\"card\">\n       <img alt=\"Card image cap\" class=\"card-img-top\" src=\"https://www.jpl.nasa.gov/assets/images/content/tmp/images/nasa_images(3x1).jpg\"/>\n       <div class=\"card-body\">\n        <h5 class=\"card-title\">\n         Great images in NASA\n        </h5>\n        <p class=\"card-text\">\n         A selection of the best-known images from a half-century of exploration and discovery\n        </p>\n       </div>\n      </div>\n     </div>\n    </div>\n   </div>\n  </div>\n  <div class=\"multi_teaser\">\n   <div class=\"container\">\n    <h1>\n     You Might Also Like\n    </h1>\n    <div class=\"col-md-12 mt-5\">\n     <div class=\"row\">\n      <div class=\"col-md-4\">\n       <div class=\"card\">\n        <img alt=\"Card image cap\" class=\"card-img-top\" src=\"https://imagecache.jpl.nasa.gov/images/640x350/C1-PIA24304---CatScanMars-16-640x350.gif\"/>\n        <div class=\"card-body\">\n         <p class=\"card-text\">\n          Access to the full library of publicly released images from various Solar System exploration programs\n         </p>\n        </div>\n       </div>\n      </div>\n      <div class=\"col-md-4\">\n       <div class=\"card\">\n        <img alt=\"Card image cap\" class=\"card-img-top\" src=\"https://imagecache.jpl.nasa.gov/images/640x350/PIA23491-16-640x350.jpg\"/>\n        <div class=\"card-body\">\n         <p class=\"card-text\">\n          Access to the full library of publicly released images from various Solar System exploration programs\n         </p>\n        </div>\n       </div>\n      </div>\n      <div class=\"col-md-4\">\n       <div class=\"card\">\n        <img alt=\"Card image cap\" class=\"card-img-top\" src=\"https://imagecache.jpl.nasa.gov/images/640x350/C1-PIA23180-16-640x350.gif\"/>\n        <div class=\"card-body\">\n         <p class=\"card-text\">\n          Access to the full library of publicly released images from various Solar System exploration programs\n         </p>\n        </div>\n       </div>\n      </div>\n     </div>\n    </div>\n   </div>\n  </div>\n  <div class=\"footer\">\n   <div class=\"container\">\n    <div class=\"col-md-12\">\n     <div class=\"row\">\n      <div class=\"col-md-3\">\n       <h4>\n        About JPL\n       </h4>\n       <ul>\n        <li>\n         About JPL\n        </li>\n        <li>\n         JPL Vision\n        </li>\n        <li>\n         Executive Council\n        </li>\n        <li>\n         History\n        </li>\n       </ul>\n      </div>\n      <div class=\"col-md-3\">\n       <h4>\n        Education\n       </h4>\n       <ul>\n        <li>\n         Intern\n        </li>\n        <li>\n         Learn\n        </li>\n        <li>\n         Teach\n        </li>\n        <li>\n         News\n        </li>\n       </ul>\n      </div>\n      <div class=\"col-md-3\">\n       <h4>\n        Our Sites\n       </h4>\n       <ul>\n        <li>\n         Asteroid Watch\n        </li>\n        <li>\n         Basics of Spaceflight\n        </li>\n        <li>\n         Cassini - Mission to Saturn\n        </li>\n        <li>\n         Climate Kids\n        </li>\n       </ul>\n      </div>\n      <div class=\"col-md-3\">\n       <h4>\n        Galleries\n       </h4>\n       <ul>\n        <li>\n         JPL Space Images\n        </li>\n        <li>\n         Videos\n        </li>\n        <li>\n         Infographics\n        </li>\n        <li>\n         Photojournal\n        </li>\n       </ul>\n      </div>\n     </div>\n    </div>\n   </div>\n  </div>\n  <!--<div class=\"showFullimage\">\n\t<button class=\"btn btn-outline-light hideimage\" onclick=hideimage()> Close</button>\n\t<img class=\"fullimage fade-in\" src=\"\">\n</div>-->\n  <!-- <script src=\"js/jquery.easeScroll.js\"></script>  -->\n  <script src=\"js/jquery-3.5.1.min.js\">\n  </script>\n  <!-- <script src=\"js/jquery-3.2.1.slim.min.js\"></script> -->\n  <script src=\"js/demo.js\">\n  </script>\n  <!-- <script src=\"js/app.js\"></script> -->\n  <script src=\"https://cdnjs.cloudflare.com/ajax/libs/popper.js/1.12.9/umd/popper.min.js\">\n  </script>\n  <script src=\"https://maxcdn.bootstrapcdn.com/bootstrap/4.0.0/js/bootstrap.min.js\">\n  </script>\n  <script src=\"js/fancyBox/jquery.fancybox.pack.js?v=2.1.5\" type=\"text/javascript\">\n  </script>\n  <link href=\"js/fancyBox/jquery.fancybox.css?v=2.1.5\" media=\"screen\" rel=\"stylesheet\" type=\"text/css\"/>\n  <link href=\"js/fancyBox/helpers/jquery.fancybox-thumbs.css?v=1.0.7\" rel=\"stylesheet\" type=\"text/css\"/>\n  <script src=\"js/fancyBox/helpers/jquery.fancybox-thumbs.js?v=1.0.7\" type=\"text/javascript\">\n  </script>\n </body>\n</html>\n"
     ]
    }
   ],
   "source": [
    "print(soup1.prettify())"
   ]
  },
  {
   "cell_type": "code",
   "execution_count": 67,
   "metadata": {},
   "outputs": [],
   "source": [
    "url = 'https://data-class-jpl-space.s3.amazonaws.com/JPL_Space/index.html'\n",
    "\n",
    "browser.visit(url)\n",
    "\n",
    "\n",
    "html = browser.html\n",
    "soup1 = BeautifulSoup(html, 'html.parser')"
   ]
  },
  {
   "cell_type": "code",
   "execution_count": 68,
   "metadata": {},
   "outputs": [
    {
     "output_type": "execute_result",
     "data": {
      "text/plain": [
       "'https://data-class-jpl-space.s3.amazonaws.com/JPL_Space/image/featured/mars2.jpg'"
      ]
     },
     "metadata": {},
     "execution_count": 68
    }
   ],
   "source": [
    "featured_images = soup1.find_all('img', class_='headerimage fade-in')\n",
    "feature = featured_images[0].attrs['src']\n",
    "feature_image = url[:-10] + feature\n",
    "feature_image\n"
   ]
  },
  {
   "cell_type": "code",
   "execution_count": 69,
   "metadata": {},
   "outputs": [],
   "source": [
    "### Mars Facts\n",
    "# * Visit the USGS Astrogeology site [here](https://astrogeology.usgs.gov/search/results?q=hemisphere+enhanced&k1=target&v1=Mars) to obtain high resolution images for each of Mar's hemispheres.*"
   ]
  },
  {
   "cell_type": "code",
   "execution_count": 70,
   "metadata": {},
   "outputs": [],
   "source": [
    "import requests\n",
    "import os\n",
    "import bs4\n",
    "import string\n",
    "import pandas as pd\n",
    "import numpy as np\n",
    "import requests\n",
    "from bs4 import BeautifulSoup\n",
    "from time import sleep"
   ]
  },
  {
   "cell_type": "code",
   "execution_count": 71,
   "metadata": {},
   "outputs": [],
   "source": [
    "url = 'https://space-facts.com/mars'\n",
    "\n",
    "response = requests.get(url)\n"
   ]
  },
  {
   "cell_type": "code",
   "execution_count": 72,
   "metadata": {},
   "outputs": [
    {
     "output_type": "execute_result",
     "data": {
      "text/plain": [
       "<Response [200]>"
      ]
     },
     "metadata": {},
     "execution_count": 72
    }
   ],
   "source": [
    "response"
   ]
  },
  {
   "cell_type": "code",
   "execution_count": 73,
   "metadata": {},
   "outputs": [
    {
     "output_type": "execute_result",
     "data": {
      "text/plain": [
       "[                      0                              1\n",
       " 0  Equatorial Diameter:                       6,792 km\n",
       " 1       Polar Diameter:                       6,752 km\n",
       " 2                 Mass:  6.39 × 10^23 kg (0.11 Earths)\n",
       " 3                Moons:            2 (Phobos & Deimos)\n",
       " 4       Orbit Distance:       227,943,824 km (1.38 AU)\n",
       " 5         Orbit Period:           687 days (1.9 years)\n",
       " 6  Surface Temperature:                   -87 to -5 °C\n",
       " 7         First Record:              2nd millennium BC\n",
       " 8          Recorded By:           Egyptian astronomers,\n",
       "   Mars - Earth Comparison             Mars            Earth\n",
       " 0               Diameter:         6,779 km        12,742 km\n",
       " 1                   Mass:  6.39 × 10^23 kg  5.97 × 10^24 kg\n",
       " 2                  Moons:                2                1\n",
       " 3      Distance from Sun:   227,943,824 km   149,598,262 km\n",
       " 4         Length of Year:   687 Earth days      365.24 days\n",
       " 5            Temperature:     -87 to -5 °C      -88 to 58°C,\n",
       "                       0                              1\n",
       " 0  Equatorial Diameter:                       6,792 km\n",
       " 1       Polar Diameter:                       6,752 km\n",
       " 2                 Mass:  6.39 × 10^23 kg (0.11 Earths)\n",
       " 3                Moons:            2 (Phobos & Deimos)\n",
       " 4       Orbit Distance:       227,943,824 km (1.38 AU)\n",
       " 5         Orbit Period:           687 days (1.9 years)\n",
       " 6  Surface Temperature:                   -87 to -5 °C\n",
       " 7         First Record:              2nd millennium BC\n",
       " 8          Recorded By:           Egyptian astronomers]"
      ]
     },
     "metadata": {},
     "execution_count": 73
    }
   ],
   "source": [
    "#Use Pandas to convert the data to a HTML table string.\n",
    "tables = pd.read_html(url)\n",
    "tables"
   ]
  },
  {
   "cell_type": "code",
   "execution_count": 74,
   "metadata": {},
   "outputs": [
    {
     "output_type": "execute_result",
     "data": {
      "text/plain": [
       "list"
      ]
     },
     "metadata": {},
     "execution_count": 74
    }
   ],
   "source": [
    "type(tables)"
   ]
  },
  {
   "cell_type": "code",
   "execution_count": 75,
   "metadata": {},
   "outputs": [
    {
     "output_type": "execute_result",
     "data": {
      "text/plain": [
       "                      0                              1\n",
       "0  Equatorial Diameter:                       6,792 km\n",
       "1       Polar Diameter:                       6,752 km\n",
       "2                 Mass:  6.39 × 10^23 kg (0.11 Earths)\n",
       "3                Moons:            2 (Phobos & Deimos)\n",
       "4       Orbit Distance:       227,943,824 km (1.38 AU)"
      ],
      "text/html": "<div>\n<style scoped>\n    .dataframe tbody tr th:only-of-type {\n        vertical-align: middle;\n    }\n\n    .dataframe tbody tr th {\n        vertical-align: top;\n    }\n\n    .dataframe thead th {\n        text-align: right;\n    }\n</style>\n<table border=\"1\" class=\"dataframe\">\n  <thead>\n    <tr style=\"text-align: right;\">\n      <th></th>\n      <th>0</th>\n      <th>1</th>\n    </tr>\n  </thead>\n  <tbody>\n    <tr>\n      <th>0</th>\n      <td>Equatorial Diameter:</td>\n      <td>6,792 km</td>\n    </tr>\n    <tr>\n      <th>1</th>\n      <td>Polar Diameter:</td>\n      <td>6,752 km</td>\n    </tr>\n    <tr>\n      <th>2</th>\n      <td>Mass:</td>\n      <td>6.39 × 10^23 kg (0.11 Earths)</td>\n    </tr>\n    <tr>\n      <th>3</th>\n      <td>Moons:</td>\n      <td>2 (Phobos &amp; Deimos)</td>\n    </tr>\n    <tr>\n      <th>4</th>\n      <td>Orbit Distance:</td>\n      <td>227,943,824 km (1.38 AU)</td>\n    </tr>\n  </tbody>\n</table>\n</div>"
     },
     "metadata": {},
     "execution_count": 75
    }
   ],
   "source": [
    "df = tables[0]\n",
    "df.head()"
   ]
  },
  {
   "cell_type": "code",
   "execution_count": 76,
   "metadata": {},
   "outputs": [
    {
     "output_type": "execute_result",
     "data": {
      "text/plain": [
       "'<table border=\"1\" class=\"dataframe\">\\n  <thead>\\n    <tr style=\"text-align: right;\">\\n      <th></th>\\n      <th>0</th>\\n      <th>1</th>\\n    </tr>\\n  </thead>\\n  <tbody>\\n    <tr>\\n      <th>0</th>\\n      <td>Equatorial Diameter:</td>\\n      <td>6,792 km</td>\\n    </tr>\\n    <tr>\\n      <th>1</th>\\n      <td>Polar Diameter:</td>\\n      <td>6,752 km</td>\\n    </tr>\\n    <tr>\\n      <th>2</th>\\n      <td>Mass:</td>\\n      <td>6.39 × 10^23 kg (0.11 Earths)</td>\\n    </tr>\\n    <tr>\\n      <th>3</th>\\n      <td>Moons:</td>\\n      <td>2 (Phobos &amp; Deimos)</td>\\n    </tr>\\n    <tr>\\n      <th>4</th>\\n      <td>Orbit Distance:</td>\\n      <td>227,943,824 km (1.38 AU)</td>\\n    </tr>\\n    <tr>\\n      <th>5</th>\\n      <td>Orbit Period:</td>\\n      <td>687 days (1.9 years)</td>\\n    </tr>\\n    <tr>\\n      <th>6</th>\\n      <td>Surface Temperature:</td>\\n      <td>-87 to -5 °C</td>\\n    </tr>\\n    <tr>\\n      <th>7</th>\\n      <td>First Record:</td>\\n      <td>2nd millennium BC</td>\\n    </tr>\\n    <tr>\\n      <th>8</th>\\n      <td>Recorded By:</td>\\n      <td>Egyptian astronomers</td>\\n    </tr>\\n  </tbody>\\n</table>'"
      ]
     },
     "metadata": {},
     "execution_count": 76
    }
   ],
   "source": [
    "tables = pd.read_html(url)\n",
    "df = tables[0]\n",
    "html_table = df.to_html()\n",
    "html_table"
   ]
  },
  {
   "cell_type": "code",
   "execution_count": 77,
   "metadata": {},
   "outputs": [],
   "source": [
    "### Mars Hemispheres\n",
    "\n",
    "# * Visit the USGS Astrogeology site [here](https://astrogeology.usgs.gov/search/results?q=hemisphere+enhanced&k1=target&v1=Mars) to obtain high resolution images for each of Mar's hemispheres."
   ]
  },
  {
   "cell_type": "code",
   "execution_count": 78,
   "metadata": {},
   "outputs": [],
   "source": [
    "from splinter import Browser\n",
    "from bs4 import BeautifulSoup\n",
    "from webdriver_manager.chrome import ChromeDriverManager\n",
    "import attr"
   ]
  },
  {
   "cell_type": "code",
   "execution_count": 79,
   "metadata": {},
   "outputs": [
    {
     "output_type": "stream",
     "name": "stderr",
     "text": [
      "[WDM] - ====== WebDriver manager ======\n",
      "[WDM] - Current google-chrome version is 89.0.4389\n",
      "[WDM] - Get LATEST driver version for 89.0.4389\n",
      "[WDM] - Driver [/Users/amusaadebayo/.wdm/drivers/chromedriver/mac64/89.0.4389.23/chromedriver] found in cache\n",
      "\n",
      "\n"
     ]
    }
   ],
   "source": [
    "executable_path = {'executable_path': ChromeDriverManager().install()}\n",
    "browser = Browser('chrome', **executable_path, headless=False)"
   ]
  },
  {
   "cell_type": "code",
   "execution_count": 80,
   "metadata": {},
   "outputs": [],
   "source": [
    "url = 'https://astrogeology.usgs.gov/search/results?q=hemisphere+enhanced&k1=target&v1=Mars'\n",
    "\n",
    "browser.visit(url)\n",
    "\n",
    "\n",
    "html = browser.html\n",
    "soup2 = BeautifulSoup(html, 'html.parser')"
   ]
  },
  {
   "cell_type": "code",
   "execution_count": 81,
   "metadata": {},
   "outputs": [
    {
     "output_type": "stream",
     "name": "stdout",
     "text": [
      "<html lang=\"en\">\n <head>\n  <link href=\"//ajax.googleapis.com/ajax/libs/jqueryui/1.11.3/themes/smoothness/jquery-ui.css\" rel=\"stylesheet\" type=\"text/css\"/>\n  <title>\n   Astropedia Search Results | USGS Astrogeology Science Center\n  </title>\n  <meta content=\"USGS Astrogeology Science Center Astropedia search results.\" name=\"description\"/>\n  <meta content=\"USGS,Astrogeology Science Center,Cartography,Geology,Space,Geological Survey,Mapping\" name=\"keywords\"/>\n  <meta content=\"IE=edge\" http-equiv=\"X-UA-Compatible\"/>\n  <meta content=\"text/html; charset=utf-8\" http-equiv=\"Content-Type\"/>\n  <meta content=\"width=device-width, initial-scale=1, maximum-scale=1\" name=\"viewport\"/>\n  <meta content=\"x61hXXVj7wtfBSNOPnTftajMsZ5yB2W-qRoyr7GtOKM\" name=\"google-site-verification\"/>\n  <!--<link rel=\"stylesheet\" href=\"http://fonts.googleapis.com/css?family=Open+Sans:400italic,400,bold\"/>-->\n  <link href=\"/css/main.css\" media=\"screen\" rel=\"stylesheet\"/>\n  <link href=\"/css/print.css\" media=\"print\" rel=\"stylesheet\"/>\n  <!--[if lt IE 9]>\n\t\t\t<script src=\"http://html5shiv.googlecode.com/svn/trunk/html5.js\"></script>\n\t\t\t<script src=\"/js/respond.min.js\"></script>\n\t\t\t<link rel=\"stylesheet\" type=\"text/css\" href=\"/css/ie.css\"/>\n                        <script>\n                          document.createElement('header');\n                          document.createElement('nav');\n                          document.createElement('section');\n                          document.createElement('article');\n                          document.createElement('aside');\n                          document.createElement('footer');\n                          document.createElement('hgroup');\n                        </script>\n                  <![endif]-->\n  <link href=\"/favicon.ico\" rel=\"icon\" type=\"image/x-ico\"/>\n </head>\n <body id=\"results\">\n  <header>\n   <!--\n\t\t\t<h1>Astrogeology Science Center</h1>\n-->\n   <a href=\"https://www.usgs.gov/centers/astrogeo-sc\" style=\"float:right;margin-top:10px;\" target=\"_blank\">\n    <img alt=\"USGS: Science for a Changing World\" class=\"logo\" height=\"60\" src=\"/images/usgs_logo_main_2x.png\"/>\n   </a>\n   <a href=\"https://nasa.gov\" style=\"float:right;margin-top:5px;margin-right:20px;\" target=\"_blank\">\n    <img alt=\"NASA\" class=\"logo\" height=\"65\" src=\"/images/logos/nasa-logo-web-med.png\"/>\n   </a>\n   <a href=\"https://www.usgs.gov/centers/astrogeology-science-center/science/pds-cartography-and-imaging-sciences-node-usgs\" style=\"float:right;margin-top:5px;margin-right: 10px;\" target=\"_blank\">\n    <img alt=\"PDS Cartography and Imaging Science Node\" class=\"logo\" height=\"65\" src=\"/images/pds_logo-invisible-web.png\"/>\n   </a>\n  </header>\n  <div class=\"wrapper\">\n   <!--\n\t\t\t<nav>\n\t\t\t\t<a id=\"nav-toggle\" href=\"#\" title=\"Navigation Menu\">Menu</a>\n<ul class=\"dropdown dropdown-horizontal\" id=\"yw0\">\n<li><a href=\"/\">Home</a></li>\n<li><a href=\"/about\">About</a>\n<ul>\n<li><a href=\"/about/careers\">Careers</a></li>\n<li><a href=\"/contact\">Contact</a></li>\n<li><a href=\"/about/events\">Events</a></li>\n<li><a href=\"/site/glossary\">Glossary</a></li>\n<li><a href=\"/about/mission\">Mission</a></li>\n<li><a href=\"/news\">News</a></li>\n<li><a href=\"/people\">People</a></li>\n<li><a href=\"/about/using-our-images\">Using Our Images</a></li>\n<li><a href=\"/about/visitors\">Visitors</a></li>\n</ul>\n</li>\n<li><a href=\"/facilities\">Labs / Facilities</a>\n<ul>\n<li><a href=\"/facilities/flynn-creek-crater-sample-collection\">Flynn Creek Crater Sample Collection</a></li>\n<li><a href=\"http://www.moon-cal.org\">Lunar Calibration Project</a></li>\n<li><a href=\"/facilities/meteor-crater-sample-collection\">Meteor Crater Sample Collection</a></li>\n<li><a href=\"/facilities/mrctr\">MRCTR GIS Lab</a></li>\n<li><a href=\"/facilities/cartography-and-imaging-sciences-node-of-nasa-planetary-data-system\">PDS Cartography and Imaging Sciences Node</a></li>\n<li><a href=\"/pds/annex\">PDS IMG Annex</a></li>\n<li><a href=\"/facilities/photogrammetry-guest-facility\">Photogrammetry Guest Facility</a></li>\n<li><a href=\"/rpif\">Regional Planetary Information Facility (RPIF)</a></li>\n</ul>\n</li>\n<li><a href=\"/maps\">Maps / Products</a>\n<ul>\n<li><a href=\"/search\">Product Search</a></li>\n<li><a href=\"http://planetarynames.wr.usgs.gov\">Gazetteer of Planetary Nomenclature</a></li>\n<li><a href=\"http://planetarymapping.wr.usgs.gov\">Geologic Mapping Program</a></li>\n<li><a href=\"http://pilot.wr.usgs.gov\">Planetary Image Locator Tool (PILOT)</a></li>\n<li><a href=\"/search/planetary-index\">Planetary Map Index</a></li>\n</ul>\n</li>\n<li><a href=\"/geology\">Missions / Research</a>\n<ul>\n<li><a href=\"/geology/mars-dunes\">Mars Dunes</a></li>\n<li><a href=\"/geology/mars-ice\">Mars Ice</a></li>\n<li><a href=\"/missions\">Mission Support</a></li>\n<li><a href=\"/solar-system\">Solar System</a></li>\n<li><a href=\"/groups\">Working Groups</a></li>\n</ul>\n</li>\n<li><a href=\"/tools\">Tools</a>\n<ul>\n<li><a href=\"http://planetarynames.wr.usgs.gov\">Gazetteer of Planetary Nomenclature</a></li>\n<li><a href=\"http://isis.astrogeology.usgs.gov\">Integrated Software for Imagers and Spectrometers (ISIS)</a></li>\n<li><a href=\"http://astrogeology.usgs.gov/tools/map\">Map a Planet 2</a></li>\n<li><a href=\"http://pilot.wr.usgs.gov\">Planetary Image Locator Tool (PILOT)</a></li>\n<li><a href=\"http://astrocloud.wr.usgs.gov/\">Projection on the Web (POW)</a></li>\n</ul>\n</li>\n</ul>\t\t\t\t<form id=\"search\" class=\"search\" action=\"/search/results\" method=\"get\">\n\t\t\t\t\t<input type=\"submit\" value=\"\" title=\"Search Astropedia\"/>\n\t\t\t\t\t<input type=\"text\" placeholder=\"Search\" name=\"q\"/>\n\t\t\t\t</form>\n\t\t\t</nav>\n-->\n   <div class=\"container\">\n    <div class=\"widget block bar\">\n     <a href=\"/search\" style=\"float:right;text-decoration:none;\">\n      <img alt=\"Astropedia\" src=\"/images/astropedia/astropedia-logo-main.png\" style=\"width:200px;border:none;float:right;\"/>\n      <div style=\"clear:both;font-size:.8em;float:right;color:#888;\">\n       Lunar and Planetary Cartographic Catalog\n      </div>\n     </a>\n     <div style=\"float:left;height:60px;\">\n     </div>\n    </div>\n    <form action=\"/search/results\" class=\"bar widget block\" id=\"search-bar\">\n     <input name=\"q\" type=\"hidden\" value=\"hemisphere-enhanced\"/>\n     <input name=\"target\" type=\"hidden\" value=\"Mars\"/>\n     <input name=\"__ncforminfo\" type=\"hidden\" value=\"Xe_l-50Q8ecDa7ui49ixQGFMQgv3ZwdEEyGz0itWGdOC5yLpbH2NSTF-rCO-1qRrKnx_xR9P5VL8K_bnMBQu5zpxuI0iYIQS9OC_LsAVRQQHkwp_4VyB_Q==\"/>\n    </form>\n    <div class=\"full-content\">\n     <section class=\"block\" id=\"results-accordian\">\n      <div class=\"result-list\" data-section=\"product\" id=\"product-section\">\n       <div class=\"accordian\">\n        <h2>\n         Products\n        </h2>\n        <span class=\"count\">\n         4 Results\n        </span>\n        <span class=\"collapse\">\n         Collapse\n        </span>\n       </div>\n       <div class=\"collapsible results\">\n        <div class=\"item\">\n         <a class=\"itemLink product-item\" href=\"/search/map/Mars/Viking/cerberus_enhanced\">\n          <img alt=\"Cerberus Hemisphere Enhanced thumbnail\" class=\"thumb\" src=\"/cache/images/39d3266553462198bd2fbc4d18fbed17_cerberus_enhanced.tif_thumb.png\"/>\n         </a>\n         <div class=\"description\">\n          <a class=\"itemLink product-item\" href=\"/search/map/Mars/Viking/cerberus_enhanced\">\n           <h3>\n            Cerberus Hemisphere Enhanced\n           </h3>\n          </a>\n          <span class=\"subtitle\" style=\"float:left\">\n           image/tiff 21 MB\n          </span>\n          <span class=\"pubDate\" style=\"float:right\">\n          </span>\n          <br/>\n          <p>\n           Mosaic of the Cerberus hemisphere of Mars projected into point perspective, a view similar to that which one would see from a spacecraft. This mosaic is composed of 104 Viking Orbiter images acquired…\n          </p>\n         </div>\n         <!-- end description -->\n        </div>\n        <div class=\"item\">\n         <a class=\"itemLink product-item\" href=\"/search/map/Mars/Viking/schiaparelli_enhanced\">\n          <img alt=\"Schiaparelli Hemisphere Enhanced thumbnail\" class=\"thumb\" src=\"/cache/images/08eac6e22c07fb1fe72223a79252de20_schiaparelli_enhanced.tif_thumb.png\"/>\n         </a>\n         <div class=\"description\">\n          <a class=\"itemLink product-item\" href=\"/search/map/Mars/Viking/schiaparelli_enhanced\">\n           <h3>\n            Schiaparelli Hemisphere Enhanced\n           </h3>\n          </a>\n          <span class=\"subtitle\" style=\"float:left\">\n           image/tiff 35 MB\n          </span>\n          <span class=\"pubDate\" style=\"float:right\">\n          </span>\n          <br/>\n          <p>\n           Mosaic of the Schiaparelli hemisphere of Mars projected into point perspective, a view similar to that which one would see from a spacecraft. The images were acquired in 1980 during early northern…\n          </p>\n         </div>\n         <!-- end description -->\n        </div>\n        <div class=\"item\">\n         <a class=\"itemLink product-item\" href=\"/search/map/Mars/Viking/syrtis_major_enhanced\">\n          <img alt=\"Syrtis Major Hemisphere Enhanced thumbnail\" class=\"thumb\" src=\"/cache/images/55a0a1e2796313fdeafb17c35925e8ac_syrtis_major_enhanced.tif_thumb.png\"/>\n         </a>\n         <div class=\"description\">\n          <a class=\"itemLink product-item\" href=\"/search/map/Mars/Viking/syrtis_major_enhanced\">\n           <h3>\n            Syrtis Major Hemisphere Enhanced\n           </h3>\n          </a>\n          <span class=\"subtitle\" style=\"float:left\">\n           image/tiff 25 MB\n          </span>\n          <span class=\"pubDate\" style=\"float:right\">\n          </span>\n          <br/>\n          <p>\n           Mosaic of the Syrtis Major hemisphere of Mars projected into point perspective, a view similar to that which one would see from a spacecraft. This mosaic is composed of about 100 red and violet…\n          </p>\n         </div>\n         <!-- end description -->\n        </div>\n        <div class=\"item\">\n         <a class=\"itemLink product-item\" href=\"/search/map/Mars/Viking/valles_marineris_enhanced\">\n          <img alt=\"Valles Marineris Hemisphere Enhanced thumbnail\" class=\"thumb\" src=\"/cache/images/4e59980c1c57f89c680c0e1ccabbeff1_valles_marineris_enhanced.tif_thumb.png\"/>\n         </a>\n         <div class=\"description\">\n          <a class=\"itemLink product-item\" href=\"/search/map/Mars/Viking/valles_marineris_enhanced\">\n           <h3>\n            Valles Marineris Hemisphere Enhanced\n           </h3>\n          </a>\n          <span class=\"subtitle\" style=\"float:left\">\n           image/tiff 27 MB\n          </span>\n          <span class=\"pubDate\" style=\"float:right\">\n          </span>\n          <br/>\n          <p>\n           Mosaic of the Valles Marineris hemisphere of Mars projected into point perspective, a view similar to that which one would see from a spacecraft. The distance is 2500 kilometers from the surface of…\n          </p>\n         </div>\n         <!-- end description -->\n        </div>\n        <script>\n         addBases=[];;if(typeof resetLayerSwitcher===\"function\"){resetLayerSwitcher(false)};var productTotal = 4;\n        </script>\n       </div>\n       <!-- end this-section -->\n      </div>\n     </section>\n    </div>\n   </div>\n   <div class=\"icons projects black scroll-wrapper\">\n    <div class=\"scroll\">\n     <a class=\"icon\" href=\"http://isis.astrogeology.usgs.gov\" title=\"Integrated Software for Imagers and Spectrometers\">\n      <img alt=\"ISIS Logo\" height=\"112\" src=\"/images/logos/isis_2x.jpg\" width=\"112\"/>\n      <span class=\"label\">\n       ISIS\n      </span>\n     </a>\n     <a class=\"icon\" href=\"http://planetarynames.wr.usgs.gov\" title=\"Gazetteer of Planetary Nomenclature\">\n      <img alt=\"Nomenclature Logo\" height=\"112\" src=\"/images/logos/nomenclature_2x.jpg\" width=\"112\"/>\n      <span class=\"label\">\n       Planetary Nomenclature\n      </span>\n     </a>\n     <a class=\"icon\" href=\"https://astrogeology.usgs.gov/tools/map-a-planet-2\" title=\"Map a Planet 2\">\n      <img alt=\"Map-a-Planet Logo\" height=\"112\" src=\"/images/logos/map_a_planet_2x.jpg\" width=\"112\"/>\n      <span class=\"label\">\n       Map a Planet 2\n      </span>\n     </a>\n     <a class=\"icon\" href=\"https://www.usgs.gov/centers/astrogeo-sc/science/cartography-and-imaging-sciences-node-nasa-planetary-data-system\" title=\"PDS Cartography and Imaging Science Node\">\n      <img alt=\"PDS Logo\" height=\"112\" src=\"/images/pds_logo-black-web.png\"/>\n      <span class=\"label\">\n       PDS Cartography and Imaging Science Node\n      </span>\n     </a>\n     <!--\n\t\t\t\t\t\t<a title=\"Astropedia Search\" href=\"/search\" class=\"icon\">\n\t\t\t\t\t\t\t<img alt=\"Astropedia Logo\" height=\"112\" width=\"112\" src=\"/images/logos/astropedia_2x.jpg\"/>\n\t\t\t\t\t\t\t<span class=\"label\">Astropedia</span>\n\t\t\t\t\t\t</a>\n-->\n     <a class=\"icon\" href=\"https://www.usgs.gov/centers/astrogeo-sc/science/regional-planetary-image-facility-rpif\" title=\"Regional Planetary Image Facility\">\n      <img alt=\"RPIF Logo\" height=\"112\" src=\"/images/logos/rpif_2x.jpg\" width=\"112\"/>\n      <span class=\"label\">\n       RPIF\n      </span>\n     </a>\n     <a class=\"icon\" href=\"\" title=\"Photogrammetry Guest Facility\">\n      <img alt=\"Photogrammetry Guest Faciltiy Logo\" height=\"112\" src=\"/images/logos/photogrammetry_2x.jpg\" width=\"112\"/>\n      <span class=\"label\">\n       Photogrammetry Guest Facility\n      </span>\n     </a>\n     <a class=\"icon\" href=\"http://pilot.wr.usgs.gov\" title=\"Planetary Image Locator Tool\">\n      <img alt=\"Pilot Logo\" height=\"112\" src=\"/images/logos/pilot_2x.jpg\" width=\"112\"/>\n      <span class=\"label\">\n       PILOT\n      </span>\n     </a>\n     <a class=\"icon\" href=\"https://www.usgs.gov/centers/astrogeo-sc/science/mrctr-gis-lab\" title=\"Mapping, Remote-sensing, Cartography, Technology and Research GIS Lab\">\n      <img alt=\"MRCTR GIS Lab Logo\" height=\"112\" src=\"/images/logos/mrctr_man_2x.png\" width=\"112\"/>\n      <span class=\"label\">\n       MRCTR GIS Lab\n      </span>\n     </a>\n    </div>\n   </div>\n   <footer>\n    <div class=\"left\">\n     <a href=\"./search\">\n      Search\n     </a>\n     |\n     <a href=\"http://astrogeology.usgs.gov/maps/about\">\n      About\n     </a>\n     |\n     <a href=\"http://astrogeology.usgs.gov/maps/contact\">\n      Contact\n     </a>\n    </div>\n    <div class=\"right\">\n     <a href=\"https://www.usgs.gov/centers/astrogeo-sc\">\n      USGS Astrogeology Science Center\n     </a>\n    </div>\n   </footer>\n  </div>\n  <!--\n\t\t<div class=\"credit\">\n\t\t\t<small>Background Credits: NASA/USGS</small>\n\t\t</div>\n-->\n  <div class=\"page-background\" style=\"\n\t\t\tbackground:url('/images/backgrounds/mars.jpg');\n\t\t\tfilter:progid:DXImageTransform.Microsoft.AlphaImageLoader(\n\t\t\t\tsrc='/images/backgrounds/mars.jpg', sizingMethod='scale');\n\t\t\">\n  </div>\n  <script type=\"text/javascript\">\n   var baseUrl = \"\";\n\n/*\nvar _gaq = _gaq || [];_gaq.push(['_setAccount', 'UA-27613186-1']);_gaq.push(['_trackPageview']);(function() { var ga = document.createElement('script'); ga.type = 'text/javascript'; ga.async = true;ga.src = ('https:' == document.location.protocol ? 'https://ssl' : 'http://www') + '.google-analytics.com/ga.js'; var s = document.getElementsByTagName('script')[0]; s.parentNode.insertBefore(ga, s);})();\n*/\n  </script>\n  <script src=\"https://ajax.googleapis.com/ajax/libs/jquery/1.11.1/jquery.min.js\" type=\"text/javascript\">\n  </script>\n  <script src=\"//ajax.googleapis.com/ajax/libs/jqueryui/1.11.3/jquery-ui.min.js\" type=\"text/javascript\">\n  </script>\n  <script src=\"/js/general.js\" type=\"text/javascript\">\n  </script>\n </body>\n</html>\n"
     ]
    }
   ],
   "source": [
    "print(soup2.prettify())"
   ]
  },
  {
   "cell_type": "code",
   "execution_count": 86,
   "metadata": {},
   "outputs": [],
   "source": [
    "from bs4 import BeautifulSoup\n",
    "import requests\n",
    "import pymongo"
   ]
  },
  {
   "cell_type": "code",
   "execution_count": 87,
   "metadata": {},
   "outputs": [],
   "source": [
    "conn = 'mongodb://localhost:27017'\n",
    "client = pymongo.MongoClient(conn)"
   ]
  },
  {
   "cell_type": "code",
   "execution_count": 88,
   "metadata": {},
   "outputs": [],
   "source": [
    "db = client.mars_db\n",
    "collection = db.post"
   ]
  },
  {
   "cell_type": "code",
   "execution_count": 89,
   "metadata": {},
   "outputs": [],
   "source": [
    "url = 'https://astrogeology.usgs.gov/search/results?q=hemisphere+enhanced&k1=target&v1=Mars'\n",
    "\n",
    "# Retrieve page with the requests module\n",
    "response2 = requests.get(url)\n",
    "# Create BeautifulSoup object; parse with 'lxml'\n",
    "soup4 = BeautifulSoup(response2.text, 'lxml')"
   ]
  },
  {
   "cell_type": "code",
   "execution_count": 92,
   "metadata": {},
   "outputs": [],
   "source": [
    "hemisphere_image_urls = [\n",
    "    {\"title\": \"Cerberus Hemisphere Enhanced\", \"img_url\": \"https://astrogeology.usgs.gov/cache/images/39d3266553462198bd2fbc4d18fbed17_cerberus_enhanced.tif_thumb.png\"},\n",
    "    {\"title\": \"Schiaparelli Hemisphere Enhanced\", \"img_url\": \"https://astrogeology.usgs.gov/cache/images/08eac6e22c07fb1fe72223a79252de20_schiaparelli_enhanced.tif_thumb.png\"},\n",
    "    {\"title\": \"Syrtis Major Hemisphere Enhanced\", \"img_url\": \"https://astrogeology.usgs.gov/cache/images/55a0a1e2796313fdeafb17c35925e8ac_syrtis_major_enhanced.tif_thumb.png\"},\n",
    "    {\"title\": \"Valles Marineris Hemisphere Enhanced\", \"img_url\": \"https://astrogeology.usgs.gov/cache/images/4e59980c1c57f89c680c0e1ccabbeff1_valles_marineris_enhanced.tif_thumb.png\"},\n",
    "]"
   ]
  },
  {
   "cell_type": "code",
   "execution_count": 93,
   "metadata": {},
   "outputs": [],
   "source": [
    "# Store data in a dictionary\n",
    "mars_data = {\n",
    "    \"news_title\": news_title_text,\n",
    "    \"news_p\": news_p.text,\n",
    "    \"feature_image\": feature_image,\n",
    "    \"html_table\": html_table,\n",
    "    \"hemisphere_image_urls\": hemisphere_image_urls\n",
    "    }"
   ]
  },
  {
   "cell_type": "code",
   "execution_count": null,
   "metadata": {},
   "outputs": [],
   "source": []
  }
 ]
}