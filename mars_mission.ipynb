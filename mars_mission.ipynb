{
 "metadata": {
  "language_info": {
   "codemirror_mode": {
    "name": "ipython",
    "version": 3
   },
   "file_extension": ".py",
   "mimetype": "text/x-python",
   "name": "python",
   "nbconvert_exporter": "python",
   "pygments_lexer": "ipython3",
   "version": "3.8.5-final"
  },
  "orig_nbformat": 2,
  "kernelspec": {
   "name": "python3",
   "display_name": "Python 3.8.5 64-bit ('base': conda)",
   "metadata": {
    "interpreter": {
     "hash": "5023094fdba31b5aeb61cf4f1d860c5a76c435c685ead279b8a275fbbd45fc41"
    }
   }
  }
 },
 "nbformat": 4,
 "nbformat_minor": 2,
 "cells": [
  {
   "cell_type": "code",
   "execution_count": 5,
   "metadata": {},
   "outputs": [],
   "source": [
    "# Dependencies\n",
    "import os\n",
    "from bs4 import BeautifulSoup as bs\n",
    "from bs4 import BeautifulSoup\n",
    "import requests\n",
    "\n",
    "from splinter import Browser\n",
    "from bs4 import BeautifulSoup\n",
    "from webdriver_manager.chrome import ChromeDriverManager\n",
    "\n",
    " "
   ]
  },
  {
   "cell_type": "code",
   "execution_count": 6,
   "metadata": {},
   "outputs": [],
   "source": [
    "# !pip install urlib2"
   ]
  },
  {
   "cell_type": "code",
   "execution_count": 7,
   "metadata": {},
   "outputs": [
    {
     "output_type": "stream",
     "name": "stderr",
     "text": [
      "[WDM] - ====== WebDriver manager ======\n",
      "[WDM] - Current google-chrome version is 89.0.4389\n",
      "[WDM] - Get LATEST driver version for 89.0.4389\n",
      "\n",
      "\n",
      "[WDM] - Driver [/Users/amusaadebayo/.wdm/drivers/chromedriver/mac64/89.0.4389.23/chromedriver] found in cache\n"
     ]
    }
   ],
   "source": [
    "executable_path = {'executable_path': ChromeDriverManager().install()}\n",
    "browser = Browser('chrome', **executable_path, headless=False)"
   ]
  },
  {
   "cell_type": "code",
   "execution_count": 8,
   "metadata": {},
   "outputs": [],
   "source": [
    "# URL of page to be scraped\n",
    "# url = 'https://webscraper.io/test-sites/e-commerce/allinone/computers/laptops'\n",
    "url = 'https://mars.nasa.gov/news/'\n",
    "\n",
    "browser.visit(url)"
   ]
  },
  {
   "cell_type": "code",
   "execution_count": 9,
   "metadata": {},
   "outputs": [],
   "source": [
    "# https://mars.nasa.gov/system/news_items/list_view_images/8896_thumb-320.jpg"
   ]
  },
  {
   "cell_type": "code",
   "execution_count": 10,
   "metadata": {},
   "outputs": [
    {
     "output_type": "execute_result",
     "data": {
      "text/plain": [
       "<Response [200]>"
      ]
     },
     "metadata": {},
     "execution_count": 10
    }
   ],
   "source": [
    "# Retrieve page with the requests module\n",
    "response = requests.get('https://mars.nasa.gov/system/news_items/list_view_images/8896_thumb-320.jpg')\n",
    "\n",
    "response\n"
   ]
  },
  {
   "source": [
    "# Create BeautifulSoup object; parse with 'html.parser'\n",
    "soup = BeautifulSoup(browser.html, 'html.parser')\n"
   ],
   "cell_type": "markdown",
   "metadata": {}
  },
  {
   "cell_type": "code",
   "execution_count": 11,
   "metadata": {},
   "outputs": [],
   "source": [
    "soup = BeautifulSoup(browser.html, 'html.parser')"
   ]
  },
  {
   "cell_type": "code",
   "execution_count": 12,
   "metadata": {
    "tags": [
     "outputPrepend"
    ]
   },
   "outputs": [
    {
     "output_type": "stream",
     "name": "stdout",
     "text": [
      "/mars-exploration/missions/?category=167\" target=\"_self\">\n                Past\n               </a>\n              </li>\n              <li>\n               <a href=\"/mars-exploration/missions/?category=170\" target=\"_self\">\n                Present\n               </a>\n              </li>\n              <li>\n               <a href=\"/mars-exploration/missions/?category=171\" target=\"_self\">\n                Future\n               </a>\n              </li>\n              <li>\n               <a href=\"/mars-exploration/partners\" target=\"_self\">\n                International Partners\n               </a>\n              </li>\n             </ul>\n            </div>\n           </li>\n          </ul>\n         </div>\n        </div>\n        <div class=\"sitemap_block\" style=\"position: absolute; left: 970px; top: 0px;\">\n         <div class=\"footer_sitemap_item\">\n          <h3 class=\"sitemap_title\">\n           <a href=\"/#more\">\n            More\n           </a>\n          </h3>\n          <ul>\n           <li>\n            <div class=\"global_subnav_container\">\n             <ul class=\"subnav\">\n             </ul>\n            </div>\n           </li>\n          </ul>\n         </div>\n        </div>\n       </div>\n       <div class=\"gradient_line\">\n       </div>\n      </section>\n      <section class=\"lower_footer\">\n       <div class=\"nav_container\">\n        <nav>\n         <ul>\n          <li>\n           <a href=\"http://science.nasa.gov/\" target=\"_blank\">\n            NASA Science Mission Directorate\n           </a>\n          </li>\n          <li>\n           <a href=\"https://www.jpl.nasa.gov/copyrights.php\" target=\"_blank\">\n            Privacy\n           </a>\n          </li>\n          <li>\n           <a href=\"http://www.jpl.nasa.gov/imagepolicy/\" target=\"_blank\">\n            Image Policy\n           </a>\n          </li>\n          <li>\n           <a href=\"https://mars.nasa.gov/feedback/\" target=\"_self\">\n            Feedback\n           </a>\n          </li>\n         </ul>\n        </nav>\n       </div>\n       <div class=\"credits\">\n        <div class=\"footer_brands_top\">\n         <p>\n          Managed by the Mars Exploration Program and the Jet Propulsion Laboratory for NASA’s Science Mission Directorate\n         </p>\n        </div>\n        <!-- .footer_brands -->\n        <!-- %a.jpl{href: \"\", target: \"_blank\"}Institution -->\n        <!-- -->\n        <!-- %a.caltech{href: \"\", target: \"_blank\"}Institution -->\n        <!-- .staff -->\n        <!-- %p -->\n        <!-- - get_staff_for_category(get_field_from_admin_config(:web_staff_category_id)) -->\n        <!-- - @staff.each_with_index do |staff, idx| -->\n        <!-- - unless staff.is_in_footer == 0 -->\n        <!-- = staff.title + \": \" -->\n        <!-- - if staff.contact_link =~ /@/ -->\n        <!-- = mail_to staff.contact_link, staff.name, :subject => \"[#{@site_title}]\" -->\n        <!-- - elsif staff.contact_link.present? -->\n        <!-- = link_to staff.name, staff.contact_link -->\n        <!-- - else -->\n        <!-- = staff.name -->\n        <!-- - unless (idx + 1 == @staff.size) -->\n        <!-- %br -->\n       </div>\n      </section>\n     </div>\n    </footer>\n   </div>\n  </div>\n  <div id=\"_atssh\" style=\"visibility: hidden; height: 1px; width: 1px; position: absolute; top: -9999px; z-index: 100000;\">\n   <iframe id=\"_atssh142\" src=\"https://s7.addthis.com/static/sh.f48a1a04fe8dbf021b4cda1d.html#rand=0.6705096237519645&amp;iit=1616867124056&amp;tmr=load%3D1616867123848%26core%3D1616867123883%26main%3D1616867124043%26ifr%3D1616867124060&amp;cb=0&amp;cdn=0&amp;md=0&amp;kw=Mars%2Cmissions%2CNASA%2Crover%2CCuriosity%2COpportunity%2CInSight%2CMars%20Reconnaissance%20Orbiter%2Cfacts&amp;ab=-&amp;dh=mars.nasa.gov&amp;dr=&amp;du=https%3A%2F%2Fmars.nasa.gov%2Fnews%2F&amp;href=https%3A%2F%2Fmars.nasa.gov%2Fnews%2F&amp;dt=News%20%20%E2%80%93%20NASA%E2%80%99s%20Mars%20Exploration%20Program&amp;dbg=0&amp;cap=tc%3D0%26ab%3D0&amp;inst=1&amp;jsl=1&amp;prod=undefined&amp;lng=en&amp;ogt=image%2Cupdated_time%2Ctype%3Darticle%2Curl%2Ctitle%2Cdescription%2Csite_name&amp;pc=men&amp;pub=ra-5a690e4c1320e328&amp;ssl=1&amp;sid=605f6f33d92920c2&amp;srf=0.01&amp;ver=300&amp;xck=1&amp;xtr=0&amp;og=site_name%3DNASA%25E2%2580%2599s%2520Mars%2520Exploration%2520Program%26description%3DNASA%25E2%2580%2599s%2520real-time%2520portal%2520for%2520Mars%2520exploration%252C%2520featuring%2520the%2520latest%2520news%252C%2520images%252C%2520and%2520discoveries%2520from%2520the%2520Red%2520Planet.%26title%3DNews%2520%2520%25E2%2580%2593%2520NASA%25E2%2580%2599s%2520Mars%2520Exploration%2520Program%26url%3Dhttps%253A%252F%252Fmars.nasa.gov%252Fnews%26type%3Darticle%26updated_time%3D2017-09-22%252019%253A53%253A22%2520UTC%26image%3Dhttps%253A%252F%252Fmars.nasa.gov%252Fsystem%252Fsite_config_values%252Fmeta_share_images%252F1_mars-nasa-gov.jpg&amp;csi=undefined&amp;rev=v8.28.8-wp&amp;ct=1&amp;xld=1&amp;xd=1\" style=\"height: 1px; width: 1px; position: absolute; top: 0px; z-index: 100000; border: 0px; left: 0px;\" title=\"AddThis utility frame\">\n   </iframe>\n  </div>\n  <style id=\"service-icons-0\">\n  </style>\n  <script id=\"_fed_an_ua_tag\" src=\"https://dap.digitalgov.gov/Universal-Federated-Analytics-Min.js?agency=NASA&amp;subagency=JPL-Mars-MEPJPL&amp;pua=UA-9453474-9,UA-118212757-11&amp;dclink=true&amp;sp=searchbox&amp;exts=tif,tiff,wav\" type=\"text/javascript\">\n  </script>\n  <div aria-labelledby=\"at4-share-label\" class=\"addthis-smartlayers addthis-smartlayers-desktop\" role=\"region\">\n   <div id=\"at4-share-label\">\n    AddThis Sharing Sidebar\n   </div>\n   <div class=\"at4-share addthis_32x32_style atss atss-left addthis-animated slideInLeft\" id=\"at4-share\">\n    <a class=\"at-share-btn at-svc-facebook\" role=\"button\" tabindex=\"0\">\n     <span class=\"at4-visually-hidden\">\n      Share to Facebook\n     </span>\n     <span class=\"at-icon-wrapper\" style=\"background-color: rgb(59, 89, 152);\">\n      <svg aria-labelledby=\"at-svg-facebook-1\" class=\"at-icon at-icon-facebook\" role=\"img\" style=\"fill: rgb(255, 255, 255);\" version=\"1.1\" viewbox=\"0 0 32 32\" xmlns=\"http://www.w3.org/2000/svg\" xmlns:xlink=\"http://www.w3.org/1999/xlink\">\n       <title id=\"at-svg-facebook-1\">\n        Facebook\n       </title>\n       <g>\n        <path d=\"M22 5.16c-.406-.054-1.806-.16-3.43-.16-3.4 0-5.733 1.825-5.733 5.17v2.882H9v3.913h3.837V27h4.604V16.965h3.823l.587-3.913h-4.41v-2.5c0-1.123.347-1.903 2.198-1.903H22V5.16z\" fill-rule=\"evenodd\">\n        </path>\n       </g>\n      </svg>\n     </span>\n    </a>\n    <a class=\"at-share-btn at-svc-twitter\" role=\"button\" tabindex=\"0\">\n     <span class=\"at4-visually-hidden\">\n      Share to Twitter\n     </span>\n     <span class=\"at-icon-wrapper\" style=\"background-color: rgb(29, 161, 242);\">\n      <svg aria-labelledby=\"at-svg-twitter-2\" class=\"at-icon at-icon-twitter\" role=\"img\" style=\"fill: rgb(255, 255, 255);\" version=\"1.1\" viewbox=\"0 0 32 32\" xmlns=\"http://www.w3.org/2000/svg\" xmlns:xlink=\"http://www.w3.org/1999/xlink\">\n       <title id=\"at-svg-twitter-2\">\n        Twitter\n       </title>\n       <g>\n        <path d=\"M27.996 10.116c-.81.36-1.68.602-2.592.71a4.526 4.526 0 0 0 1.984-2.496 9.037 9.037 0 0 1-2.866 1.095 4.513 4.513 0 0 0-7.69 4.116 12.81 12.81 0 0 1-9.3-4.715 4.49 4.49 0 0 0-.612 2.27 4.51 4.51 0 0 0 2.008 3.755 4.495 4.495 0 0 1-2.044-.564v.057a4.515 4.515 0 0 0 3.62 4.425 4.52 4.52 0 0 1-2.04.077 4.517 4.517 0 0 0 4.217 3.134 9.055 9.055 0 0 1-5.604 1.93A9.18 9.18 0 0 1 6 23.85a12.773 12.773 0 0 0 6.918 2.027c8.3 0 12.84-6.876 12.84-12.84 0-.195-.005-.39-.014-.583a9.172 9.172 0 0 0 2.252-2.336\" fill-rule=\"evenodd\">\n        </path>\n       </g>\n      </svg>\n     </span>\n    </a>\n    <a class=\"at-share-btn at-svc-reddit\" role=\"button\" tabindex=\"0\">\n     <span class=\"at4-visually-hidden\">\n      Share to Reddit\n     </span>\n     <span class=\"at-icon-wrapper\" style=\"background-color: rgb(255, 87, 0);\">\n      <svg aria-labelledby=\"at-svg-reddit-3\" class=\"at-icon at-icon-reddit\" role=\"img\" style=\"fill: rgb(255, 255, 255);\" version=\"1.1\" viewbox=\"0 0 32 32\" xmlns=\"http://www.w3.org/2000/svg\" xmlns:xlink=\"http://www.w3.org/1999/xlink\">\n       <title id=\"at-svg-reddit-3\">\n        Reddit\n       </title>\n       <g>\n        <path d=\"M27 15.5a2.452 2.452 0 0 1-1.338 2.21c.098.38.147.777.147 1.19 0 1.283-.437 2.47-1.308 3.563-.872 1.092-2.06 1.955-3.567 2.588-1.506.634-3.143.95-4.91.95-1.768 0-3.403-.316-4.905-.95-1.502-.632-2.69-1.495-3.56-2.587-.872-1.092-1.308-2.28-1.308-3.562 0-.388.045-.777.135-1.166a2.47 2.47 0 0 1-1.006-.912c-.253-.4-.38-.842-.38-1.322 0-.678.237-1.26.712-1.744a2.334 2.334 0 0 1 1.73-.726c.697 0 1.29.26 1.78.782 1.785-1.258 3.893-1.928 6.324-2.01l1.424-6.467a.42.42 0 0 1 .184-.26.4.4 0 0 1 .32-.063l4.53 1.006c.147-.306.368-.553.662-.74a1.78 1.78 0 0 1 .97-.278c.508 0 .94.18 1.302.54.36.36.54.796.54 1.31 0 .512-.18.95-.54 1.315-.36.364-.794.546-1.302.546-.507 0-.94-.18-1.295-.54a1.793 1.793 0 0 1-.533-1.308l-4.1-.92-1.277 5.86c2.455.074 4.58.736 6.37 1.985a2.315 2.315 0 0 1 1.757-.757c.68 0 1.256.242 1.73.726.476.484.713 1.066.713 1.744zm-16.868 2.47c0 .513.178.95.534 1.315.356.365.787.547 1.295.547.508 0 .942-.182 1.302-.547.36-.364.54-.802.54-1.315 0-.513-.18-.95-.54-1.31-.36-.36-.794-.54-1.3-.54-.5 0-.93.183-1.29.547a1.79 1.79 0 0 0-.54 1.303zm9.944 4.406c.09-.09.135-.2.135-.323a.444.444 0 0 0-.44-.447c-.124 0-.23.042-.32.124-.336.348-.83.605-1.486.77a7.99 7.99 0 0 1-1.964.248 7.99 7.99 0 0 1-1.964-.248c-.655-.165-1.15-.422-1.486-.77a.456.456 0 0 0-.32-.124.414.414 0 0 0-.306.124.41.41 0 0 0-.135.317.45.45 0 0 0 .134.33c.352.355.837.636 1.455.843.617.207 1.118.33 1.503.366a11.6 11.6 0 0 0 1.117.056c.36 0 .733-.02 1.117-.056.385-.037.886-.16 1.504-.366.62-.207 1.104-.488 1.456-.844zm-.037-2.544c.507 0 .938-.182 1.294-.547.356-.364.534-.802.534-1.315 0-.505-.18-.94-.54-1.303a1.75 1.75 0 0 0-1.29-.546c-.506 0-.94.18-1.3.54-.36.36-.54.797-.54 1.31s.18.95.54 1.315c.36.365.794.547 1.3.547z\" fill-rule=\"evenodd\">\n        </path>\n       </g>\n      </svg>\n     </span>\n    </a>\n    <a class=\"at-share-btn at-svc-email\" role=\"button\" tabindex=\"0\">\n     <span class=\"at4-visually-hidden\">\n      Share to Email\n     </span>\n     <span class=\"at-icon-wrapper\" style=\"background-color: rgb(132, 132, 132);\">\n      <svg aria-labelledby=\"at-svg-email-4\" class=\"at-icon at-icon-email\" role=\"img\" style=\"fill: rgb(255, 255, 255);\" version=\"1.1\" viewbox=\"0 0 32 32\" xmlns=\"http://www.w3.org/2000/svg\" xmlns:xlink=\"http://www.w3.org/1999/xlink\">\n       <title id=\"at-svg-email-4\">\n        Email\n       </title>\n       <g>\n        <g fill-rule=\"evenodd\">\n        </g>\n        <path d=\"M27 22.757c0 1.24-.988 2.243-2.19 2.243H7.19C5.98 25 5 23.994 5 22.757V13.67c0-.556.39-.773.855-.496l8.78 5.238c.782.467 1.95.467 2.73 0l8.78-5.238c.472-.28.855-.063.855.495v9.087z\">\n        </path>\n        <path d=\"M27 9.243C27 8.006 26.02 7 24.81 7H7.19C5.988 7 5 8.004 5 9.243v.465c0 .554.385 1.232.857 1.514l9.61 5.733c.267.16.8.16 1.067 0l9.61-5.733c.473-.283.856-.96.856-1.514v-.465z\">\n        </path>\n       </g>\n      </svg>\n     </span>\n    </a>\n    <a class=\"at-share-btn at-svc-compact\" role=\"button\" tabindex=\"0\">\n     <span class=\"at4-visually-hidden\">\n      More AddThis Share options\n     </span>\n     <span class=\"at-icon-wrapper\" style=\"background-color: rgb(255, 101, 80);\">\n      <svg aria-labelledby=\"at-svg-addthis-5\" class=\"at-icon at-icon-addthis\" role=\"img\" style=\"fill: rgb(255, 255, 255);\" version=\"1.1\" viewbox=\"0 0 32 32\" xmlns=\"http://www.w3.org/2000/svg\" xmlns:xlink=\"http://www.w3.org/1999/xlink\">\n       <title id=\"at-svg-addthis-5\">\n        AddThis\n       </title>\n       <g>\n        <path d=\"M18 14V8h-4v6H8v4h6v6h4v-6h6v-4h-6z\" fill-rule=\"evenodd\">\n        </path>\n       </g>\n      </svg>\n     </span>\n    </a>\n    <div class=\"at-custom-sidebar-counter\" style=\"width: 48px; overflow-wrap: break-word;\">\n     <div class=\"at-custom-sidebar-count\" style=\"color: rgb(34, 34, 34);\">\n      428\n     </div>\n     <div class=\"at-custom-sidebar-text\" style=\"color: rgb(34, 34, 34);\">\n      SHARES\n     </div>\n    </div>\n    <div class=\"at-share-close-control ats-transparent at4-hide-content at4-show\" id=\"at4-scc\" title=\"Hide\">\n     <div class=\"at4-arrow at-left\">\n      Hide\n     </div>\n    </div>\n   </div>\n   <div class=\"at-share-open-control at-share-open-control-left ats-transparent at4-hide\" id=\"at4-soc\" title=\"Show\">\n    <div class=\"at4-arrow at-right\">\n     Show\n    </div>\n   </div>\n  </div>\n  <div aria-labelledby=\"at-thankyou-label\" class=\"at4-thankyou at4-thankyou-background at4-hide ats-transparent at4-thankyou-desktop addthis-smartlayers addthis-animated fadeIn at4-show\" id=\"at4-thankyou\" role=\"dialog\">\n   <div class=\"at4lb-inner\">\n    <button class=\"at4x\" title=\"Close\">\n     Close\n    </button>\n    <a id=\"at4-palogo\">\n     <div>\n      <a class=\"at-branding-logo\" href=\"https://www.addthis.com/website-tools/overview?utm_source=AddThis%20Tools&amp;utm_medium=image\" target=\"_blank\" title=\"Powered by AddThis\">\n       <div class=\"at-branding-icon\">\n       </div>\n       <span class=\"at-branding-addthis\">\n        AddThis\n       </span>\n      </a>\n     </div>\n    </a>\n    <div class=\"at4-thankyou-inner\">\n     <div class=\"thankyou-title\" id=\"at-thankyou-label\">\n     </div>\n     <div class=\"thankyou-description\">\n     </div>\n     <div class=\"at4-thankyou-layer\">\n     </div>\n    </div>\n   </div>\n  </div>\n  <div aria-labelledby=\"at-share-dock-label\" class=\"at-share-dock-outer at4-hide addthis-smartlayers at4-visually-hidden addthis-smartlayers-mobile\" role=\"region\">\n   <div class=\"at4-hide\" id=\"at-share-dock-label\">\n    AddThis Sharing\n   </div>\n   <div class=\"at-share-dock atss atss-bottom at-shfs-small addthis-animated slideInUp at4-show at4-hide\" id=\"at-share-dock\">\n    <a class=\"at4-count\" href=\"#\" style=\"width: 16.6667%;\">\n     <span class=\"at4-counter\">\n     </span>\n     <span class=\"at4-share-label\">\n      SHARES\n     </span>\n    </a>\n    <a class=\"at-share-btn at-svc-facebook\" role=\"button\" style=\"width: 16.6667%;\" tabindex=\"0\" title=\"Facebook\">\n     <span class=\"at-icon-wrapper\" style=\"background-color: rgb(59, 89, 152);\">\n      <svg alt=\"Facebook\" aria-labelledby=\"at-svg-facebook-6\" class=\"at-icon at-icon-facebook\" role=\"img\" style=\"fill: rgb(255, 255, 255); width: 24px; height: 24px;\" title=\"Facebook\" version=\"1.1\" viewbox=\"0 0 32 32\" xmlns=\"http://www.w3.org/2000/svg\" xmlns:xlink=\"http://www.w3.org/1999/xlink\">\n       <title id=\"at-svg-facebook-6\">\n        Facebook\n       </title>\n       <g>\n        <path d=\"M22 5.16c-.406-.054-1.806-.16-3.43-.16-3.4 0-5.733 1.825-5.733 5.17v2.882H9v3.913h3.837V27h4.604V16.965h3.823l.587-3.913h-4.41v-2.5c0-1.123.347-1.903 2.198-1.903H22V5.16z\" fill-rule=\"evenodd\">\n        </path>\n       </g>\n      </svg>\n     </span>\n    </a>\n    <a class=\"at-share-btn at-svc-twitter\" role=\"button\" style=\"width: 16.6667%;\" tabindex=\"0\" title=\"Twitter\">\n     <span class=\"at-icon-wrapper\" style=\"background-color: rgb(29, 161, 242);\">\n      <svg alt=\"Twitter\" aria-labelledby=\"at-svg-twitter-7\" class=\"at-icon at-icon-twitter\" role=\"img\" style=\"fill: rgb(255, 255, 255); width: 24px; height: 24px;\" title=\"Twitter\" version=\"1.1\" viewbox=\"0 0 32 32\" xmlns=\"http://www.w3.org/2000/svg\" xmlns:xlink=\"http://www.w3.org/1999/xlink\">\n       <title id=\"at-svg-twitter-7\">\n        Twitter\n       </title>\n       <g>\n        <path d=\"M27.996 10.116c-.81.36-1.68.602-2.592.71a4.526 4.526 0 0 0 1.984-2.496 9.037 9.037 0 0 1-2.866 1.095 4.513 4.513 0 0 0-7.69 4.116 12.81 12.81 0 0 1-9.3-4.715 4.49 4.49 0 0 0-.612 2.27 4.51 4.51 0 0 0 2.008 3.755 4.495 4.495 0 0 1-2.044-.564v.057a4.515 4.515 0 0 0 3.62 4.425 4.52 4.52 0 0 1-2.04.077 4.517 4.517 0 0 0 4.217 3.134 9.055 9.055 0 0 1-5.604 1.93A9.18 9.18 0 0 1 6 23.85a12.773 12.773 0 0 0 6.918 2.027c8.3 0 12.84-6.876 12.84-12.84 0-.195-.005-.39-.014-.583a9.172 9.172 0 0 0 2.252-2.336\" fill-rule=\"evenodd\">\n        </path>\n       </g>\n      </svg>\n     </span>\n    </a>\n    <a class=\"at-share-btn at-svc-reddit\" role=\"button\" style=\"width: 16.6667%;\" tabindex=\"0\" title=\"Reddit\">\n     <span class=\"at-icon-wrapper\" style=\"background-color: rgb(255, 87, 0);\">\n      <svg alt=\"Reddit\" aria-labelledby=\"at-svg-reddit-8\" class=\"at-icon at-icon-reddit\" role=\"img\" style=\"fill: rgb(255, 255, 255); width: 24px; height: 24px;\" title=\"Reddit\" version=\"1.1\" viewbox=\"0 0 32 32\" xmlns=\"http://www.w3.org/2000/svg\" xmlns:xlink=\"http://www.w3.org/1999/xlink\">\n       <title id=\"at-svg-reddit-8\">\n        Reddit\n       </title>\n       <g>\n        <path d=\"M27 15.5a2.452 2.452 0 0 1-1.338 2.21c.098.38.147.777.147 1.19 0 1.283-.437 2.47-1.308 3.563-.872 1.092-2.06 1.955-3.567 2.588-1.506.634-3.143.95-4.91.95-1.768 0-3.403-.316-4.905-.95-1.502-.632-2.69-1.495-3.56-2.587-.872-1.092-1.308-2.28-1.308-3.562 0-.388.045-.777.135-1.166a2.47 2.47 0 0 1-1.006-.912c-.253-.4-.38-.842-.38-1.322 0-.678.237-1.26.712-1.744a2.334 2.334 0 0 1 1.73-.726c.697 0 1.29.26 1.78.782 1.785-1.258 3.893-1.928 6.324-2.01l1.424-6.467a.42.42 0 0 1 .184-.26.4.4 0 0 1 .32-.063l4.53 1.006c.147-.306.368-.553.662-.74a1.78 1.78 0 0 1 .97-.278c.508 0 .94.18 1.302.54.36.36.54.796.54 1.31 0 .512-.18.95-.54 1.315-.36.364-.794.546-1.302.546-.507 0-.94-.18-1.295-.54a1.793 1.793 0 0 1-.533-1.308l-4.1-.92-1.277 5.86c2.455.074 4.58.736 6.37 1.985a2.315 2.315 0 0 1 1.757-.757c.68 0 1.256.242 1.73.726.476.484.713 1.066.713 1.744zm-16.868 2.47c0 .513.178.95.534 1.315.356.365.787.547 1.295.547.508 0 .942-.182 1.302-.547.36-.364.54-.802.54-1.315 0-.513-.18-.95-.54-1.31-.36-.36-.794-.54-1.3-.54-.5 0-.93.183-1.29.547a1.79 1.79 0 0 0-.54 1.303zm9.944 4.406c.09-.09.135-.2.135-.323a.444.444 0 0 0-.44-.447c-.124 0-.23.042-.32.124-.336.348-.83.605-1.486.77a7.99 7.99 0 0 1-1.964.248 7.99 7.99 0 0 1-1.964-.248c-.655-.165-1.15-.422-1.486-.77a.456.456 0 0 0-.32-.124.414.414 0 0 0-.306.124.41.41 0 0 0-.135.317.45.45 0 0 0 .134.33c.352.355.837.636 1.455.843.617.207 1.118.33 1.503.366a11.6 11.6 0 0 0 1.117.056c.36 0 .733-.02 1.117-.056.385-.037.886-.16 1.504-.366.62-.207 1.104-.488 1.456-.844zm-.037-2.544c.507 0 .938-.182 1.294-.547.356-.364.534-.802.534-1.315 0-.505-.18-.94-.54-1.303a1.75 1.75 0 0 0-1.29-.546c-.506 0-.94.18-1.3.54-.36.36-.54.797-.54 1.31s.18.95.54 1.315c.36.365.794.547 1.3.547z\" fill-rule=\"evenodd\">\n        </path>\n       </g>\n      </svg>\n     </span>\n    </a>\n    <a class=\"at-share-btn at-svc-email\" role=\"button\" style=\"width: 16.6667%;\" tabindex=\"0\" title=\"Email\">\n     <span class=\"at-icon-wrapper\" style=\"background-color: rgb(132, 132, 132);\">\n      <svg alt=\"Email\" aria-labelledby=\"at-svg-email-9\" class=\"at-icon at-icon-email\" role=\"img\" style=\"fill: rgb(255, 255, 255); width: 24px; height: 24px;\" title=\"Email\" version=\"1.1\" viewbox=\"0 0 32 32\" xmlns=\"http://www.w3.org/2000/svg\" xmlns:xlink=\"http://www.w3.org/1999/xlink\">\n       <title id=\"at-svg-email-9\">\n        Email\n       </title>\n       <g>\n        <g fill-rule=\"evenodd\">\n        </g>\n        <path d=\"M27 22.757c0 1.24-.988 2.243-2.19 2.243H7.19C5.98 25 5 23.994 5 22.757V13.67c0-.556.39-.773.855-.496l8.78 5.238c.782.467 1.95.467 2.73 0l8.78-5.238c.472-.28.855-.063.855.495v9.087z\">\n        </path>\n        <path d=\"M27 9.243C27 8.006 26.02 7 24.81 7H7.19C5.988 7 5 8.004 5 9.243v.465c0 .554.385 1.232.857 1.514l9.61 5.733c.267.16.8.16 1.067 0l9.61-5.733c.473-.283.856-.96.856-1.514v-.465z\">\n        </path>\n       </g>\n      </svg>\n     </span>\n    </a>\n    <a class=\"at-share-btn at-svc-compact\" role=\"button\" style=\"width: 16.6667%;\" tabindex=\"0\" title=\"More\">\n     <span class=\"at-icon-wrapper\" style=\"background-color: rgb(255, 101, 80);\">\n      <svg alt=\"More\" aria-labelledby=\"at-svg-addthis-10\" class=\"at-icon at-icon-addthis\" role=\"img\" style=\"fill: rgb(255, 255, 255); width: 24px; height: 24px;\" title=\"More\" version=\"1.1\" viewbox=\"0 0 32 32\" xmlns=\"http://www.w3.org/2000/svg\" xmlns:xlink=\"http://www.w3.org/1999/xlink\">\n       <title id=\"at-svg-addthis-10\">\n        AddThis\n       </title>\n       <g>\n        <path d=\"M18 14V8h-4v6H8v4h6v6h4v-6h6v-4h-6z\" fill-rule=\"evenodd\">\n        </path>\n       </g>\n      </svg>\n     </span>\n    </a>\n   </div>\n  </div>\n </body>\n</html>\n"
     ]
    }
   ],
   "source": [
    "# Examine the results, then determine element that contains sought info\n",
    "print(soup.prettify())"
   ]
  },
  {
   "cell_type": "code",
   "execution_count": 144,
   "metadata": {},
   "outputs": [
    {
     "output_type": "stream",
     "name": "stdout",
     "text": [
      "NASA Ingenuity Mars Helicopter Prepares for First Flight\nAnother First: Perseverance Captures the Sounds of Driving on Mars\nNASA to Host Briefing to Preview First Mars Helicopter Flights\nNew Study Challenges Long-Held Theory of Fate of Mars' Water\nNASA's Perseverance Mars Rover Mission Honors Navajo Language\nPerseverance Rover's SuperCam Science Instrument Delivers First Results\nNASA's Perseverance Drives on Mars' Terrain for First Time\nMedia Telecon Materials - March 5, 2021\nNASA Awards Mars Ascent Propulsion System Contract for Sample Return\nNASA to Provide Update on Perseverance ‘Firsts' Since Mars Landing \nTesting Proves Its Worth With Successful Mars Parachute Deployment\nNASA's Perseverance Rover Gives High-Definition Panoramic View of Landing Site\nNearly 11 Million Names of Earthlings are on Mars Perseverance\nNASA's Mars Perseverance Rover Provides Front-Row Seat to Landing, First Audio Recording of Red Planet \nNASA to Reveal New Video, Images From Mars Perseverance Rover\nNASA's Mars Helicopter Reports In \nNASA's Perseverance Rover Sends Sneak Peek of Mars Landing\nTouchdown! NASA's Mars Perseverance Rover Safely Lands on Red Planet\nSearching for Life in NASA's Perseverance Mars Samples\nThe Mars Relay Network Connects Us to NASA's Martian Explorers\nNASA's Next Mars Rover Is Ready for the Most Precise Landing Yet\nSensors Prepare to Collect Data as Perseverance Enters Mars' Atmosphere\nInSight Is Meeting the Challenge of Winter on Dusty Mars\nNASA Invites Public to Share Thrill of Mars Perseverance Rover Landing\nTricky Terrain: Helping to Assure a Safe Rover Landing\nWhere Should Future Astronauts Land on Mars? Follow the Water\nNASA's Perseverance Pays Off Back Home\nCould the Surface of Phobos Reveal Secrets of the Martian Past?\nNASA's MAVEN Continues to Advance Mars Science and Telecommunications Relay Efforts\nNASA's Perseverance Rover 22 Days From Mars Landing\n6 Things to Know About NASA's Mars Helicopter on Its Way to Mars\nNASA to Host Virtual Briefing on February Perseverance Mars Rover Landing\nNASA InSight's ‘Mole' Ends Its Journey on Mars\nMars 2020 Perseverance Rover to Capture Sounds From the Red Planet\nNASA's Curiosity Rover Reaches Its 3,000th Day on Mars\nCelebrate the Perseverance Rover Landing With NASA's Student Challenge\nNASA Extends Exploration for Two Planetary Science Missions\n7 Things to Know About the NASA Rover About to Land on Mars\nA Martian Roundtrip: NASA's Perseverance Rover Sample Tubes\nNASA Moves Forward With Campaign to Return Mars Samples to Earth\n"
     ]
    }
   ],
   "source": [
    "news_title = soup.find_all(\"li\",class_ = \"slide\")\n",
    "for everyli in news_title:\n",
    "    print(everyli.find(\"h3\").text)"
   ]
  },
  {
   "cell_type": "code",
   "execution_count": 13,
   "metadata": {},
   "outputs": [
    {
     "output_type": "execute_result",
     "data": {
      "text/plain": [
       "<li class=\"slide\"><div class=\"image_and_description_container\"><a href=\"/news/8896/nasa-ingenuity-mars-helicopter-prepares-for-first-flight/\" target=\"_self\"><div class=\"rollover_description\"><div class=\"rollover_description_inner\">Now uncocooned from its protective carbon-fiber shield, the helicopter is being readied for its next steps.  </div><div class=\"overlay_arrow\"><img alt=\"More\" src=\"/assets/overlay-arrow.png\"/></div></div><div class=\"list_image\"><img alt=\"An illustration of NASA’s Ingenuity Helicopter flying on Mars. \" src=\"/system/news_items/list_view_images/8896_thumb-320.jpg\"/></div><div class=\"bottom_gradient\"><div><h3>NASA Ingenuity Mars Helicopter Prepares for First Flight</h3></div></div></a><div class=\"list_text\"><div class=\"list_date\">March 23, 2021</div><div class=\"content_title\"><a href=\"/news/8896/nasa-ingenuity-mars-helicopter-prepares-for-first-flight/\" target=\"_self\">NASA Ingenuity Mars Helicopter Prepares for First Flight</a></div><div class=\"article_teaser_body\">Now uncocooned from its protective carbon-fiber shield, the helicopter is being readied for its next steps.  </div></div></div></li>"
      ]
     },
     "metadata": {},
     "execution_count": 13
    }
   ],
   "source": [
    "titletag = soup.find(\"li\", class_ =\"slide\")\n",
    "titletag"
   ]
  },
  {
   "cell_type": "code",
   "execution_count": 14,
   "metadata": {},
   "outputs": [
    {
     "output_type": "execute_result",
     "data": {
      "text/plain": [
       "'https://mars.nasa.gov/news//news/8896/nasa-ingenuity-mars-helicopter-prepares-for-first-flight/'"
      ]
     },
     "metadata": {},
     "execution_count": 14
    }
   ],
   "source": [
    "\n",
    "atag = titletag.find('a')\n",
    "\n",
    "\"https://mars.nasa.gov/news/\" + atag[\"href\"] "
   ]
  },
  {
   "cell_type": "code",
   "execution_count": 16,
   "metadata": {},
   "outputs": [
    {
     "output_type": "stream",
     "name": "stdout",
     "text": [
      "<class 'bs4.element.Tag'>\n"
     ]
    },
    {
     "output_type": "error",
     "ename": "AttributeError",
     "evalue": "'NoneType' object has no attribute 'text'",
     "traceback": [
      "\u001b[0;31m---------------------------------------------------------------------------\u001b[0m",
      "\u001b[0;31mAttributeError\u001b[0m                            Traceback (most recent call last)",
      "\u001b[0;32m<ipython-input-16-2533c535b70b>\u001b[0m in \u001b[0;36m<module>\u001b[0;34m\u001b[0m\n\u001b[1;32m      4\u001b[0m \u001b[0;32mfor\u001b[0m \u001b[0mp\u001b[0m \u001b[0;32min\u001b[0m \u001b[0mnews_p\u001b[0m\u001b[0;34m:\u001b[0m\u001b[0;34m\u001b[0m\u001b[0;34m\u001b[0m\u001b[0m\n\u001b[1;32m      5\u001b[0m     \u001b[0mprint\u001b[0m\u001b[0;34m(\u001b[0m\u001b[0mtype\u001b[0m\u001b[0;34m(\u001b[0m\u001b[0mp\u001b[0m\u001b[0;34m)\u001b[0m\u001b[0;34m)\u001b[0m\u001b[0;34m\u001b[0m\u001b[0;34m\u001b[0m\u001b[0m\n\u001b[0;32m----> 6\u001b[0;31m     \u001b[0mprint\u001b[0m\u001b[0;34m(\u001b[0m\u001b[0mp\u001b[0m\u001b[0;34m.\u001b[0m\u001b[0mfind\u001b[0m\u001b[0;34m(\u001b[0m\u001b[0;34m\"article_teaser_body\"\u001b[0m\u001b[0;34m)\u001b[0m\u001b[0;34m.\u001b[0m\u001b[0mtext\u001b[0m\u001b[0;34m)\u001b[0m\u001b[0;34m\u001b[0m\u001b[0;34m\u001b[0m\u001b[0m\n\u001b[0m",
      "\u001b[0;31mAttributeError\u001b[0m: 'NoneType' object has no attribute 'text'"
     ]
    }
   ],
   "source": [
    "news_p = soup.find_all(\"div\",class_ = \"article_teaser_body\")\n",
    "# print(news_p)\n",
    "\n",
    "for p in news_p:\n",
    "    print(type(p))\n",
    "    print(p.find(\"article_teaser_body\").text)"
   ]
  },
  {
   "cell_type": "code",
   "execution_count": 3,
   "metadata": {},
   "outputs": [
    {
     "output_type": "error",
     "ename": "NameError",
     "evalue": "name 'news_p' is not defined",
     "traceback": [
      "\u001b[0;31m---------------------------------------------------------------------------\u001b[0m",
      "\u001b[0;31mNameError\u001b[0m                                 Traceback (most recent call last)",
      "\u001b[0;32m<ipython-input-3-864fe497b947>\u001b[0m in \u001b[0;36m<module>\u001b[0;34m\u001b[0m\n\u001b[1;32m      1\u001b[0m \u001b[0;31m# Loop through returned results\u001b[0m\u001b[0;34m\u001b[0m\u001b[0;34m\u001b[0m\u001b[0;34m\u001b[0m\u001b[0m\n\u001b[0;32m----> 2\u001b[0;31m \u001b[0;32mfor\u001b[0m \u001b[0mp\u001b[0m \u001b[0;32min\u001b[0m \u001b[0mnews_p\u001b[0m\u001b[0;34m:\u001b[0m\u001b[0;34m\u001b[0m\u001b[0;34m\u001b[0m\u001b[0m\n\u001b[0m\u001b[1;32m      3\u001b[0m     \u001b[0;31m# Error handling\u001b[0m\u001b[0;34m\u001b[0m\u001b[0;34m\u001b[0m\u001b[0;34m\u001b[0m\u001b[0m\n\u001b[1;32m      4\u001b[0m     \u001b[0;32mtry\u001b[0m\u001b[0;34m:\u001b[0m\u001b[0;34m\u001b[0m\u001b[0;34m\u001b[0m\u001b[0m\n\u001b[1;32m      5\u001b[0m         \u001b[0;31m# Identify and return title of listing\u001b[0m\u001b[0;34m\u001b[0m\u001b[0;34m\u001b[0m\u001b[0;34m\u001b[0m\u001b[0m\n",
      "\u001b[0;31mNameError\u001b[0m: name 'news_p' is not defined"
     ]
    }
   ],
   "source": [
    "# Loop through returned results\n",
    "for p in news_p:\n",
    "    # Error handling\n",
    "    try:\n",
    "        # Identify and return title of listing\n",
    "        news_title = soup.find(\"li\",class_ = \"slide\")\n",
    "\n",
    "        # Identify and return price of listing\n",
    "        news_p = news_p.find('div', class_='article_teaser_body').text\n",
    "        # Identify and return link to listing\n",
    "        link = news_p.a['href']\n",
    "\n",
    "        # Run only if title, price, and link are available\n",
    "        if (news_title and news_p and link):\n",
    "            # Print results\n",
    "            print('-------------')\n",
    "            print(news_title)\n",
    "            print(news_p)\n",
    "            print(link)\n",
    "\n",
    "            # Dictionary to be inserted as a MongoDB document\n",
    "            post = {\n",
    "                'news_title': title,\n",
    "                'news_p': price,\n",
    "                'url': link\n",
    "            }\n",
    "\n",
    "            collection.insert_one(post)\n",
    "\n",
    "    except Exception as e:\n",
    "        print(e)"
   ]
  },
  {
   "cell_type": "code",
   "execution_count": 120,
   "metadata": {},
   "outputs": [
    {
     "output_type": "execute_result",
     "data": {
      "text/plain": [
       "<img alt=\"More\" src=\"/assets/overlay-arrow.png\"/>"
      ]
     },
     "metadata": {},
     "execution_count": 120
    }
   ],
   "source": [
    "imagetag = soup.find(\"li\", class_ =\"slide\")\n",
    "img_tag = imagetag.find(\"img\")\n",
    "img_tag"
   ]
  },
  {
   "cell_type": "code",
   "execution_count": 121,
   "metadata": {},
   "outputs": [],
   "source": [
    "# image = imagetag.open(imagetag[\"src\"])"
   ]
  },
  {
   "cell_type": "code",
   "execution_count": 122,
   "metadata": {},
   "outputs": [
    {
     "output_type": "execute_result",
     "data": {
      "text/plain": [
       "[]"
      ]
     },
     "metadata": {},
     "execution_count": 122
    }
   ],
   "source": [
    "news_title = soup.find_all('h1', class_='article_title')\n",
    "news_title"
   ]
  },
  {
   "cell_type": "code",
   "execution_count": 123,
   "metadata": {},
   "outputs": [
    {
     "output_type": "execute_result",
     "data": {
      "text/plain": [
       "[]"
      ]
     },
     "metadata": {},
     "execution_count": 123
    }
   ],
   "source": [
    "news_p = soup.find_all('dic', class_='wysiwyg_content')\n",
    "news_p"
   ]
  },
  {
   "cell_type": "code",
   "execution_count": null,
   "metadata": {},
   "outputs": [],
   "source": []
  },
  {
   "cell_type": "code",
   "execution_count": 161,
   "metadata": {},
   "outputs": [
    {
     "output_type": "error",
     "ename": "TypeError",
     "evalue": "'NoneType' object is not subscriptable",
     "traceback": [
      "\u001b[0;31m---------------------------------------------------------------------------\u001b[0m",
      "\u001b[0;31mTypeError\u001b[0m                                 Traceback (most recent call last)",
      "\u001b[0;32m<ipython-input-161-a042d46a8712>\u001b[0m in \u001b[0;36m<module>\u001b[0;34m\u001b[0m\n\u001b[1;32m      2\u001b[0m \u001b[0;34m\u001b[0m\u001b[0m\n\u001b[1;32m      3\u001b[0m \u001b[0mimg\u001b[0m \u001b[0;34m=\u001b[0m \u001b[0msoup\u001b[0m\u001b[0;34m.\u001b[0m\u001b[0mfind\u001b[0m\u001b[0;34m(\u001b[0m\u001b[0;34m\"div\"\u001b[0m\u001b[0;34m,\u001b[0m \u001b[0;34m{\u001b[0m\u001b[0;34m\"id\"\u001b[0m\u001b[0;34m:\u001b[0m \u001b[0;34m\"\"\u001b[0m\u001b[0;34m}\u001b[0m\u001b[0;34m)\u001b[0m\u001b[0;34m.\u001b[0m\u001b[0mfind\u001b[0m\u001b[0;34m(\u001b[0m\u001b[0;34m\"img\"\u001b[0m\u001b[0;34m)\u001b[0m\u001b[0;34m\u001b[0m\u001b[0;34m\u001b[0m\u001b[0m\n\u001b[0;32m----> 4\u001b[0;31m \u001b[0mdata\u001b[0m \u001b[0;34m=\u001b[0m \u001b[0mjson\u001b[0m\u001b[0;34m.\u001b[0m\u001b[0mloads\u001b[0m\u001b[0;34m(\u001b[0m\u001b[0mimg\u001b[0m\u001b[0;34m[\u001b[0m\u001b[0;34m\"data-a-dynamic-image\"\u001b[0m\u001b[0;34m]\u001b[0m\u001b[0;34m)\u001b[0m\u001b[0;34m\u001b[0m\u001b[0;34m\u001b[0m\u001b[0m\n\u001b[0m\u001b[1;32m      5\u001b[0m \u001b[0mprint\u001b[0m\u001b[0;34m(\u001b[0m\u001b[0mlist\u001b[0m\u001b[0;34m(\u001b[0m\u001b[0mdata\u001b[0m\u001b[0;34m.\u001b[0m\u001b[0mkeys\u001b[0m\u001b[0;34m(\u001b[0m\u001b[0;34m)\u001b[0m\u001b[0;34m)\u001b[0m\u001b[0;34m)\u001b[0m\u001b[0;34m\u001b[0m\u001b[0;34m\u001b[0m\u001b[0m\n",
      "\u001b[0;31mTypeError\u001b[0m: 'NoneType' object is not subscriptable"
     ]
    }
   ],
   "source": [
    "import json\n",
    "\n",
    "img = soup.find(\"div\", {\"id\": \"\"}).find(\"img\")\n",
    "data = json.loads(img[\"data-a-dynamic-image\"])\n",
    "print(list(data.keys()))"
   ]
  },
  {
   "cell_type": "code",
   "execution_count": 126,
   "metadata": {},
   "outputs": [],
   "source": [
    "# from BeautifulSoup import BeautifulSoup as BSHTML\n",
    "# import urllib2\n",
    "# page = urllib2.urlopen('https://mars.nasa.gov/news/')\n",
    "# soup = BeautifulSoup(page)\n",
    "# images = soup.findAll('img')\n",
    "# for image in images:\n",
    "#     #print image source\n",
    "#     print (image['src'])\n",
    "#     #print alternate text\n",
    "#     print (image['alt'])"
   ]
  },
  {
   "cell_type": "code",
   "execution_count": 127,
   "metadata": {},
   "outputs": [],
   "source": [
    "  # Iterate through each news\n",
    "# news = soup.find_all(\"li\", class_ = \"slide\")\n",
    "# # Use Beautiful Soup's find() method to navigate and retrieve attributes\n",
    "# h3 = news.find('h3')\n",
    "# link = h3.find('a')\n",
    "# href = link['href']\n",
    "# title = link['title']\n",
    "# print('-----------')\n",
    "# print(news)\n",
    "# print('https://mars.nasa.gov/news/' + href)"
   ]
  },
  {
   "cell_type": "code",
   "execution_count": 128,
   "metadata": {},
   "outputs": [
    {
     "output_type": "stream",
     "name": "stdout",
     "text": [
      "Scraping Complete\n"
     ]
    }
   ],
   "source": [
    " # Click the 'Next' button on each page\n",
    "try:\n",
    "    browser.links.find_by_partial_text('next').click()\n",
    "          \n",
    "except:\n",
    "    print(\"Scraping Complete\")"
   ]
  },
  {
   "cell_type": "code",
   "execution_count": 129,
   "metadata": {},
   "outputs": [],
   "source": [
    "# html = browser.html\n",
    "# soup = BeautifulSoup(html, 'html.parser')\n",
    "\n",
    "# # sidebar = soup.find_all('ul', class_='nav-list')\n",
    "# titletag = soup.find_all('li', class_='slide')\n",
    "\n",
    "# news = titletag.find('li')\n",
    "\n",
    "# news_list = []\n",
    "# url_list = []\n",
    "# news_url_list = []\n",
    "# for new in news:\n",
    "#     title = news.text.strip()\n",
    "#     category_list.append(title)\n",
    "#     news_url = category.find('a')['href']\n",
    "#     url_list.append(news_url)\n",
    "\n",
    "# news_url_list = ['https://mars.nasa.gov/news/' + url for url in url_list]\n",
    "\n",
    "# news_and_urls = zip(category_list, news_url_list)\n",
    "\n",
    "# try:\n",
    "#     for news_url in news_and_urls:\n",
    "#         browser.links.find_by_partial_text('next').click()\n",
    "# except ElementDoesNotExist:\n",
    "#     print(\"Scraping Complete\")"
   ]
  },
  {
   "cell_type": "code",
   "execution_count": 130,
   "metadata": {},
   "outputs": [],
   "source": [
    "#browser.quit()"
   ]
  },
  {
   "cell_type": "code",
   "execution_count": 131,
   "metadata": {},
   "outputs": [
    {
     "output_type": "execute_result",
     "data": {
      "text/plain": [
       "'NASA Ingenuity Mars Helicopter Prepares for First Flight'"
      ]
     },
     "metadata": {},
     "execution_count": 131
    }
   ],
   "source": [
    "titletag = soup.find(\"li\", class_ =\"slide\")\n",
    "titletag.find(\"div\",class_=\"content_title\").find(\"a\").text"
   ]
  },
  {
   "cell_type": "code",
   "execution_count": 169,
   "metadata": {},
   "outputs": [
    {
     "output_type": "execute_result",
     "data": {
      "text/plain": [
       "'/assets/overlay-arrow.png'"
      ]
     },
     "metadata": {},
     "execution_count": 169
    }
   ],
   "source": [
    "\n",
    "local_path = titletag.find(\"img\")[\"src\"]\n",
    "local_path\n",
    "\n",
    "# '/assets/overlay-arrow.png'"
   ]
  },
  {
   "cell_type": "code",
   "execution_count": 171,
   "metadata": {},
   "outputs": [
    {
     "output_type": "execute_result",
     "data": {
      "text/plain": [
       "'https://mars.nasa.gov/news/assets/overlay-arrow.png'"
      ]
     },
     "metadata": {},
     "execution_count": 171
    }
   ],
   "source": [
    "url = 'https://mars.nasa.gov/news'\n",
    "full_path = url + local_path\n",
    "full_path"
   ]
  },
  {
   "cell_type": "code",
   "execution_count": 133,
   "metadata": {},
   "outputs": [],
   "source": [
    "titletag = soup.find(\"div\", class_=\"img\")\n",
    "titletag\n"
   ]
  },
  {
   "cell_type": "code",
   "execution_count": 134,
   "metadata": {},
   "outputs": [],
   "source": [
    "# # Read HTML from file\n",
    "# filepath = os.path.join(\"..\", \"Resources\", \"template.html\")\n",
    "# with open(filepath) as file:\n",
    "#     html = file.read()"
   ]
  },
  {
   "cell_type": "code",
   "execution_count": 135,
   "metadata": {},
   "outputs": [],
   "source": [
    "#* Scrape the [NASA Mars News Site](https://mars.nasa.gov/news/) and collect the latest News Title and Paragraph Text. Assign the text to variables that you can reference later.\n"
   ]
  },
  {
   "cell_type": "code",
   "execution_count": 191,
   "metadata": {},
   "outputs": [],
   "source": [
    "# Create a Beautiful Soup object\n",
    "soup = bs(html, 'lxml')    "
   ]
  },
  {
   "cell_type": "code",
   "execution_count": 192,
   "metadata": {},
   "outputs": [
    {
     "output_type": "stream",
     "name": "stdout",
     "text": [
      "News  – NASA’s Mars Exploration Program \n"
     ]
    }
   ],
   "source": [
    "# Extract title text\n",
    "title = soup.title.text\n",
    "print(title)\n"
   ]
  },
  {
   "cell_type": "code",
   "execution_count": 193,
   "metadata": {},
   "outputs": [
    {
     "output_type": "stream",
     "name": "stdout",
     "text": [
      "Managed by the Mars Exploration Program and the Jet Propulsion Laboratory for NASA’s Science Mission Directorate\n"
     ]
    }
   ],
   "source": [
    "# Print all paragraph texts\n",
    "paragraphs = soup.find_all('p')\n",
    "for paragraph in paragraphs:\n",
    "    print(paragraph.text)\n"
   ]
  },
  {
   "cell_type": "code",
   "execution_count": 165,
   "metadata": {},
   "outputs": [],
   "source": [
    "# Print all ten headlines\n",
    "tds = soup.find_all('td')\n",
    "# A blank list to hold the headlines\n",
    "headlines = []\n"
   ]
  },
  {
   "cell_type": "code",
   "execution_count": 166,
   "metadata": {},
   "outputs": [],
   "source": [
    "# Loop over td elements\n",
    "for td in tds:\n",
    "# If td element has an anchor...\n",
    "    if (td.a):\n",
    "# And the anchor has non-blank text...\n",
    "        if (td.a.text):\n",
    "# Append the td to the list\n",
    "            headlines.append(td)"
   ]
  },
  {
   "cell_type": "code",
   "execution_count": 167,
   "metadata": {},
   "outputs": [
    {
     "output_type": "error",
     "ename": "NameError",
     "evalue": "name 'x' is not defined",
     "traceback": [
      "\u001b[0;31m---------------------------------------------------------------------------\u001b[0m",
      "\u001b[0;31mNameError\u001b[0m                                 Traceback (most recent call last)",
      "\u001b[0;32m<ipython-input-167-e80ec7c5bded>\u001b[0m in \u001b[0;36m<module>\u001b[0;34m\u001b[0m\n\u001b[1;32m      1\u001b[0m \u001b[0;31m# Print only the headlines\u001b[0m\u001b[0;34m\u001b[0m\u001b[0;34m\u001b[0m\u001b[0;34m\u001b[0m\u001b[0m\n\u001b[0;32m----> 2\u001b[0;31m \u001b[0;32mfor\u001b[0m \u001b[0mtd\u001b[0m \u001b[0;32min\u001b[0m \u001b[0mrange\u001b[0m\u001b[0;34m(\u001b[0m\u001b[0mx\u001b[0m\u001b[0;34m)\u001b[0m\u001b[0;34m:\u001b[0m\u001b[0;34m\u001b[0m\u001b[0;34m\u001b[0m\u001b[0m\n\u001b[0m\u001b[1;32m      3\u001b[0m     \u001b[0mprint\u001b[0m\u001b[0;34m(\u001b[0m\u001b[0mheadlines\u001b[0m\u001b[0;34m[\u001b[0m\u001b[0mx\u001b[0m\u001b[0;34m]\u001b[0m\u001b[0;34m.\u001b[0m\u001b[0mtext\u001b[0m\u001b[0;34m)\u001b[0m\u001b[0;34m\u001b[0m\u001b[0;34m\u001b[0m\u001b[0m\n",
      "\u001b[0;31mNameError\u001b[0m: name 'x' is not defined"
     ]
    }
   ],
   "source": [
    "# Print only the headlines\n",
    "for td in range(x):     \n",
    "    print(headlines[x].text) "
   ]
  },
  {
   "cell_type": "code",
   "execution_count": null,
   "metadata": {},
   "outputs": [],
   "source": []
  },
  {
   "cell_type": "code",
   "execution_count": null,
   "metadata": {},
   "outputs": [],
   "source": []
  },
  {
   "cell_type": "code",
   "execution_count": 84,
   "metadata": {},
   "outputs": [],
   "source": [
    "url = 'https://data-class-jpl-space.s3.amazonaws.com/JPL_Space/index.html'\n"
   ]
  },
  {
   "cell_type": "code",
   "execution_count": 85,
   "metadata": {},
   "outputs": [],
   "source": [
    "response = requests.get(url)"
   ]
  },
  {
   "cell_type": "code",
   "execution_count": 86,
   "metadata": {},
   "outputs": [],
   "source": [
    "# Create BeautifulSoup object; parse with 'html.parser'\n",
    "soup = BeautifulSoup(response.text, 'html.parser')"
   ]
  },
  {
   "cell_type": "code",
   "execution_count": 87,
   "metadata": {},
   "outputs": [
    {
     "output_type": "stream",
     "name": "stdout",
     "text": [
      "<!DOCTYPE html>\n<html>\n <head>\n  <meta charset=\"utf-8\"/>\n  <meta content=\"width=device-width, initial-scale=1\" name=\"viewport\"/>\n  <link href=\"https://maxcdn.bootstrapcdn.com/bootstrap/4.0.0/css/bootstrap.min.css\" rel=\"stylesheet\"/>\n  <!-- <link rel=\"stylesheet\" type=\"text/css\" href=\"css/font.css\"> -->\n  <link href=\"css/app.css\" rel=\"stylesheet\" type=\"text/css\"/>\n  <link href=\"https://stackpath.bootstrapcdn.com/font-awesome/4.7.0/css/font-awesome.min.css\" rel=\"stylesheet\" type=\"text/css\"/>\n  <title>\n   Space Image\n  </title>\n </head>\n <body>\n  <div class=\"header\">\n   <nav class=\"navbar navbar-expand-lg\">\n    <a class=\"navbar-brand\" href=\"#\">\n     <img id=\"logo\" src=\"image/nasa.png\"/>\n     <span class=\"logo\">\n      Jet Propulsion Laboratory\n     </span>\n     <span class=\"logo1\">\n      California Institute of Technology\n     </span>\n    </a>\n    <button aria-controls=\"navbarNav\" aria-expanded=\"false\" aria-label=\"Toggle navigation\" class=\"navbar-toggler\" data-target=\"#navbarNav\" data-toggle=\"collapse\" type=\"button\">\n     <span class=\"navbar-toggler-icon\">\n     </span>\n    </button>\n    <div class=\"collapse navbar-collapse justify-content-end\" id=\"navbarNav\">\n     <ul class=\"navbar-nav\">\n      <li class=\"nav-item active\">\n       <a class=\"nav-link\" href=\"#\">\n        <i aria-hidden=\"true\" class=\"fa fa-bars\">\n        </i>\n        MENU\n        <i aria-hidden=\"true\" class=\"fa fa-search\">\n        </i>\n       </a>\n      </li>\n     </ul>\n    </div>\n   </nav>\n   <div class=\"floating_text_area\">\n    <h2 class=\"brand_title\">\n     FEATURED IMAGE\n    </h2>\n    <h1 class=\"media_feature_title\">\n     Dusty Space Cloud\n    </h1>\n    <br/>\n    <a class=\"showimg fancybox-thumbs\" href=\"\" target=\"_blank\">\n     <button class=\"btn btn-outline-light\">\n      FULL IMAGE\n     </button>\n    </a>\n   </div>\n  </div>\n  <div class=\"search sticky\">\n   <div class=\"col-md-12\">\n    <div class=\"row\">\n     <div class=\"col-md-6\">\n      <input name=\"Search\" placeholder=\"Search\" type=\"text\"/>\n     </div>\n     <div class=\"col-md-6\">\n      <select aria-label=\"Default select example\" class=\"form-select\" id=\"options\">\n       <option onchange=\"0\" selected=\"\">\n        Mars\n       </option>\n       <!-- <option data-filter=\"sun\" class=\"button\">Mars</option> -->\n       <option class=\"button\" data-filter=\"Sun\">\n        Sun\n       </option>\n       <option class=\"button\" data-filter=\"earth\">\n        Earth\n       </option>\n       <option class=\"button\" data-filter=\"ida\">\n        Ida\n       </option>\n       <option class=\"button\" data-filter=\"jupiter\">\n        Jupiter\n       </option>\n       <option class=\"button\" data-filter=\"venus\">\n        Venus\n       </option>\n      </select>\n     </div>\n    </div>\n   </div>\n  </div>\n  <div class=\"container mt-5\">\n   <div class=\"col-md-12\">\n    <div class=\"row\">\n     <div class=\"col-md-6\">\n      <h1>\n       Images\n      </h1>\n     </div>\n     <div class=\"col-md-6\" id=\"icon\">\n      <div class=\"icon2\">\n      </div>\n      <div class=\"icon1\">\n      </div>\n     </div>\n    </div>\n   </div>\n   <!-- first div -->\n   <div class=\"div1\" id=\"filter\">\n    <div class=\"thmbgroup\">\n    </div>\n   </div>\n   <!-- first div ends -->\n   <!-- second div starts -->\n   <div class=\"col-md-12 grid-margin\" id=\"column\">\n    <ul class=\"post-list\">\n     <li class=\"post-heading\">\n     </li>\n    </ul>\n   </div>\n   <!-- second div starts -->\n  </div>\n  <div class=\"first imgcontainer mt-3\">\n   <div class=\"col-md-12\">\n    <div class=\"row\">\n     <div class=\"col-md-3\">\n      <img id=\"pic\" src=\"\"/>\n     </div>\n    </div>\n   </div>\n  </div>\n  <!-- end -->\n  <div class=\"module_gallery container\">\n   <div class=\"col-md-12\">\n    <div class=\"row\">\n     <div class=\"col-md-6\">\n      <div class=\"card\">\n       <img alt=\"Card image cap\" class=\"card-img-top\" src=\"https://www.jpl.nasa.gov/assets/images/content/tmp/images/jpl_photojournal(3x1).jpg\"/>\n       <div class=\"card-body\">\n        <h5 class=\"card-title\">\n         JPL Photojournal\n        </h5>\n        <p class=\"card-text\">\n         Access to the full library of publicly released images from various Solar System exploration programs\n        </p>\n       </div>\n      </div>\n     </div>\n     <div class=\"col-md-6\">\n      <div class=\"card\">\n       <img alt=\"Card image cap\" class=\"card-img-top\" src=\"https://www.jpl.nasa.gov/assets/images/content/tmp/images/nasa_images(3x1).jpg\"/>\n       <div class=\"card-body\">\n        <h5 class=\"card-title\">\n         Great images in NASA\n        </h5>\n        <p class=\"card-text\">\n         A selection of the best-known images from a half-century of exploration and discovery\n        </p>\n       </div>\n      </div>\n     </div>\n    </div>\n   </div>\n  </div>\n  <div class=\"multi_teaser\">\n   <div class=\"container\">\n    <h1>\n     You Might Also Like\n    </h1>\n    <div class=\"col-md-12 mt-5\">\n     <div class=\"row\">\n      <div class=\"col-md-4\">\n       <div class=\"card\">\n        <img alt=\"Card image cap\" class=\"card-img-top\" src=\"https://imagecache.jpl.nasa.gov/images/640x350/C1-PIA24304---CatScanMars-16-640x350.gif\"/>\n        <div class=\"card-body\">\n         <p class=\"card-text\">\n          Access to the full library of publicly released images from various Solar System exploration programs\n         </p>\n        </div>\n       </div>\n      </div>\n      <div class=\"col-md-4\">\n       <div class=\"card\">\n        <img alt=\"Card image cap\" class=\"card-img-top\" src=\"https://imagecache.jpl.nasa.gov/images/640x350/PIA23491-16-640x350.jpg\"/>\n        <div class=\"card-body\">\n         <p class=\"card-text\">\n          Access to the full library of publicly released images from various Solar System exploration programs\n         </p>\n        </div>\n       </div>\n      </div>\n      <div class=\"col-md-4\">\n       <div class=\"card\">\n        <img alt=\"Card image cap\" class=\"card-img-top\" src=\"https://imagecache.jpl.nasa.gov/images/640x350/C1-PIA23180-16-640x350.gif\"/>\n        <div class=\"card-body\">\n         <p class=\"card-text\">\n          Access to the full library of publicly released images from various Solar System exploration programs\n         </p>\n        </div>\n       </div>\n      </div>\n     </div>\n    </div>\n   </div>\n  </div>\n  <div class=\"footer\">\n   <div class=\"container\">\n    <div class=\"col-md-12\">\n     <div class=\"row\">\n      <div class=\"col-md-3\">\n       <h4>\n        About JPL\n       </h4>\n       <ul>\n        <li>\n         About JPL\n        </li>\n        <li>\n         JPL Vision\n        </li>\n        <li>\n         Executive Council\n        </li>\n        <li>\n         History\n        </li>\n       </ul>\n      </div>\n      <div class=\"col-md-3\">\n       <h4>\n        Education\n       </h4>\n       <ul>\n        <li>\n         Intern\n        </li>\n        <li>\n         Learn\n        </li>\n        <li>\n         Teach\n        </li>\n        <li>\n         News\n        </li>\n       </ul>\n      </div>\n      <div class=\"col-md-3\">\n       <h4>\n        Our Sites\n       </h4>\n       <ul>\n        <li>\n         Asteroid Watch\n        </li>\n        <li>\n         Basics of Spaceflight\n        </li>\n        <li>\n         Cassini - Mission to Saturn\n        </li>\n        <li>\n         Climate Kids\n        </li>\n       </ul>\n      </div>\n      <div class=\"col-md-3\">\n       <h4>\n        Galleries\n       </h4>\n       <ul>\n        <li>\n         JPL Space Images\n        </li>\n        <li>\n         Videos\n        </li>\n        <li>\n         Infographics\n        </li>\n        <li>\n         Photojournal\n        </li>\n       </ul>\n      </div>\n     </div>\n    </div>\n   </div>\n  </div>\n  <!--<div class=\"showFullimage\">\n\t<button class=\"btn btn-outline-light hideimage\" onclick=hideimage()> Close</button>\n\t<img class=\"fullimage fade-in\" src=\"\">\n</div>-->\n  <!-- <script src=\"js/jquery.easeScroll.js\"></script>  -->\n  <script src=\"js/jquery-3.5.1.min.js\">\n  </script>\n  <!-- <script src=\"js/jquery-3.2.1.slim.min.js\"></script> -->\n  <script src=\"js/demo.js\">\n  </script>\n  <!-- <script src=\"js/app.js\"></script> -->\n  <script src=\"https://cdnjs.cloudflare.com/ajax/libs/popper.js/1.12.9/umd/popper.min.js\">\n  </script>\n  <script src=\"https://maxcdn.bootstrapcdn.com/bootstrap/4.0.0/js/bootstrap.min.js\">\n  </script>\n  <script src=\"js/fancyBox/jquery.fancybox.pack.js?v=2.1.5\" type=\"text/javascript\">\n  </script>\n  <link href=\"js/fancyBox/jquery.fancybox.css?v=2.1.5\" media=\"screen\" rel=\"stylesheet\" type=\"text/css\">\n   <link href=\"js/fancyBox/helpers/jquery.fancybox-thumbs.css?v=1.0.7\" rel=\"stylesheet\" type=\"text/css\">\n    <script src=\"js/fancyBox/helpers/jquery.fancybox-thumbs.js?v=1.0.7\" type=\"text/javascript\">\n    </script>\n   </link>\n  </link>\n </body>\n</html>\n"
     ]
    }
   ],
   "source": [
    "print(soup.prettify())"
   ]
  },
  {
   "cell_type": "code",
   "execution_count": null,
   "metadata": {},
   "outputs": [],
   "source": []
  }
 ]
}