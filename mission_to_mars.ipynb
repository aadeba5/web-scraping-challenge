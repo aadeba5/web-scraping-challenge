{
 "cells": [
  {
   "cell_type": "code",
   "execution_count": 1,
   "metadata": {},
   "outputs": [
    {
     "output_type": "stream",
     "name": "stdout",
     "text": [
      "Requirement already satisfied: pymongo in /Users/amusaadebayo/opt/anaconda3/envs/bootcamp/lib/python3.6/site-packages (3.11.3)\n"
     ]
    }
   ],
   "source": [
    "!pip install pymongo"
   ]
  },
  {
   "cell_type": "code",
   "execution_count": 3,
   "metadata": {},
   "outputs": [],
   "source": [
    "# Module used to connect Python with MongoDb\n",
    "import os\n",
    "from bs4 import BeautifulSoup as bs\n",
    "import pymongo\n",
    "import datetime\n",
    "import requests\n",
    "from splinter import Browser\n",
    "from webdriver_manager.chrome import ChromeDriverManager"
   ]
  },
  {
   "cell_type": "code",
   "execution_count": 4,
   "metadata": {},
   "outputs": [],
   "source": [
    "import pandas as pd"
   ]
  },
  {
   "cell_type": "code",
   "execution_count": null,
   "metadata": {},
   "outputs": [],
   "source": []
  },
  {
   "cell_type": "code",
   "execution_count": 5,
   "metadata": {},
   "outputs": [],
   "source": [
    "# The default port used by MongoDB is 27017\n",
    "# https://docs.mongodb.com/manual/reference/default-mongodb-port/\n",
    "\n",
    "conn = 'mongodb://localhost:27017'\n",
    "client = pymongo.MongoClient(conn)\n",
    "\n",
    "# Define the 'classDB' database in Mongo\n",
    "db = client.MarsDB"
   ]
  },
  {
   "cell_type": "code",
   "execution_count": 6,
   "metadata": {},
   "outputs": [
    {
     "output_type": "execute_result",
     "data": {
      "text/plain": [
       "Collection(Database(MongoClient(host=['localhost:27017'], document_class=dict, tz_aware=False, connect=True), 'MarsDB'), 'mars_mission')"
      ]
     },
     "metadata": {},
     "execution_count": 6
    }
   ],
   "source": [
    "db.mars_mission"
   ]
  },
  {
   "cell_type": "code",
   "execution_count": 7,
   "metadata": {},
   "outputs": [
    {
     "output_type": "error",
     "ename": "FileNotFoundError",
     "evalue": "[Errno 2] No such file or directory: '../Resources/template.html'",
     "traceback": [
      "\u001b[0;31m---------------------------------------------------------------------------\u001b[0m",
      "\u001b[0;31mFileNotFoundError\u001b[0m                         Traceback (most recent call last)",
      "\u001b[0;32m<ipython-input-7-9d45a2708e08>\u001b[0m in \u001b[0;36m<module>\u001b[0;34m\u001b[0m\n\u001b[1;32m      1\u001b[0m \u001b[0mfilepath\u001b[0m \u001b[0;34m=\u001b[0m \u001b[0mos\u001b[0m\u001b[0;34m.\u001b[0m\u001b[0mpath\u001b[0m\u001b[0;34m.\u001b[0m\u001b[0mjoin\u001b[0m\u001b[0;34m(\u001b[0m\u001b[0;34m\"..\"\u001b[0m\u001b[0;34m,\u001b[0m \u001b[0;34m\"Resources\"\u001b[0m\u001b[0;34m,\u001b[0m \u001b[0;34m\"template.html\"\u001b[0m\u001b[0;34m)\u001b[0m\u001b[0;34m\u001b[0m\u001b[0;34m\u001b[0m\u001b[0m\n\u001b[0;32m----> 2\u001b[0;31m \u001b[0;32mwith\u001b[0m \u001b[0mopen\u001b[0m\u001b[0;34m(\u001b[0m\u001b[0mfilepath\u001b[0m\u001b[0;34m)\u001b[0m \u001b[0;32mas\u001b[0m \u001b[0mfile\u001b[0m\u001b[0;34m:\u001b[0m\u001b[0;34m\u001b[0m\u001b[0;34m\u001b[0m\u001b[0m\n\u001b[0m\u001b[1;32m      3\u001b[0m     \u001b[0mhtml\u001b[0m \u001b[0;34m=\u001b[0m \u001b[0mfile\u001b[0m\u001b[0;34m.\u001b[0m\u001b[0mread\u001b[0m\u001b[0;34m(\u001b[0m\u001b[0;34m)\u001b[0m\u001b[0;34m\u001b[0m\u001b[0;34m\u001b[0m\u001b[0m\n\u001b[1;32m      4\u001b[0m \u001b[0;34m\u001b[0m\u001b[0m\n\u001b[1;32m      5\u001b[0m     \u001b[0;31m# Extract title text\u001b[0m\u001b[0;34m\u001b[0m\u001b[0;34m\u001b[0m\u001b[0;34m\u001b[0m\u001b[0m\n",
      "\u001b[0;31mFileNotFoundError\u001b[0m: [Errno 2] No such file or directory: '../Resources/template.html'"
     ]
    }
   ],
   "source": [
    "filepath = os.path.join(\"..\", \"Resources\", \"template.html\")\n",
    "with open(filepath) as file:\n",
    "    html = file.read()\n",
    "\n",
    "    # Extract title text\n",
    "title = soup.title.text\n",
    "print(title)"
   ]
  },
  {
   "cell_type": "code",
   "execution_count": 9,
   "metadata": {},
   "outputs": [
    {
     "output_type": "execute_result",
     "data": {
      "text/plain": [
       "<pymongo.results.InsertOneResult at 0x7fd19d0befc0>"
      ]
     },
     "metadata": {},
     "execution_count": 9
    }
   ],
   "source": [
    "db.mars_mission.insert_one(\n",
    "    {\"temperature\": 'temp',\n",
    "    \"hunmidity\": 'hum',\n",
    "    \"pressure\": 'pre'}\n",
    "    )"
   ]
  },
  {
   "cell_type": "code",
   "execution_count": 11,
   "metadata": {},
   "outputs": [
    {
     "output_type": "execute_result",
     "data": {
      "text/plain": [
       "<pymongo.cursor.Cursor at 0x7f85dc048cd0>"
      ]
     },
     "metadata": {},
     "execution_count": 11
    }
   ],
   "source": [
    "db.mars_mission.find()"
   ]
  },
  {
   "cell_type": "code",
   "execution_count": 12,
   "metadata": {},
   "outputs": [],
   "source": [
    "result = db.mars_mission.find()"
   ]
  },
  {
   "cell_type": "code",
   "execution_count": 15,
   "metadata": {},
   "outputs": [
    {
     "output_type": "stream",
     "name": "stdout",
     "text": [
      "{'_id': ObjectId('605bc74bfdd0b7486ad6cb66'), 'temperature': 'temp', 'hunmidity': 'hum', 'pressure': 'pre'}\n"
     ]
    }
   ],
   "source": [
    "for results in result:\n",
    "    print (results)\n"
   ]
  },
  {
   "cell_type": "code",
   "execution_count": 14,
   "metadata": {},
   "outputs": [],
   "source": [
    "# Read HTML from file\n",
    "\n",
    "\n",
    "# Print all paragraph texts\n",
    "paragraphs = soup.find_all('p')\n",
    "for paragraph in paragraphs:\n",
    "    print(paragraph.text)\n",
    "\n",
    "    # Print all ten headlines\n",
    "tds = soup.find_all('td')\n",
    "# A blank list to hold the headlines\n",
    "headlines = []\n",
    "# Loop over td elements\n",
    "for td in tds:\n",
    "    # If td element has an anchor...\n",
    "    if (td.a):\n",
    "        # And the anchor has non-blank text...\n",
    "        if (td.a.text):\n",
    "            # Append the td to the list\n",
    "            headlines.append(td)\n",
    "            \n",
    "# Print only the headlines\n",
    "for x in range(10):\n",
    "    print(headlines[x].text) \n",
    "#"
   ]
  },
  {
   "cell_type": "code",
   "execution_count": null,
   "metadata": {},
   "outputs": [],
   "source": []
  },
  {
   "cell_type": "code",
   "execution_count": null,
   "metadata": {},
   "outputs": [],
   "source": []
  },
  {
   "cell_type": "code",
   "execution_count": null,
   "metadata": {},
   "outputs": [],
   "source": []
  },
  {
   "cell_type": "code",
   "execution_count": null,
   "metadata": {},
   "outputs": [],
   "source": [
    "#Jottings\n",
    "## import necessary libraries\n",
    "from flask import Flask, render_template\n",
    "h1 {\n",
    "    margin-bottom: 15px;\n",
    "    font-size: 55px;\n",
    "    color:cornsilk;\n",
    "    text-align: center;\n",
    "    text-decoration: blanchedalmond;\n",
    "    background-color:black\n",
    "    }\n",
    "\n",
    "h2 {\n",
    "    margin-bottom: 15px;\n",
    "    font-size: 50px;\n",
    "    color: blue;\n",
    "    text-align: left;\n",
    "    text-decoration: rgb(20, 20, 20);\n",
    "    background-color: lightskyblue;\n",
    "    }\n",
    "\n",
    "h3 {\n",
    "    margin-bottom: 15px;\n",
    "    font-size: 32px;\n",
    "    color: green;\n",
    "    text-align: left;\n",
    "    text-decoration: blanchedalmond;\n",
    "    background-color: rgb(10, 10, 10) ;\n",
    "    }\n",
    "\n",
    "    section {\n",
    "    background-color: rgb(10, 10, 10);\n",
    "      font-size: larger;\n",
    "      text-align: left;\n",
    "      \n",
    "\n",
    "\n",
    "    }\n",
    "\n",
    "    p {\n",
    "      font-size: larger;\n",
    "    }\n",
    "    ul {\n",
    "        border-width: 5px;\n",
    "        border: mediumspringgreen;\n",
    "\n",
    "    }\n",
    "\n",
    "    img { \n",
    "      float:left ;\n",
    "    }\n",
    "# create instance of Flask app\n",
    "app = Flask(__name__)\n",
    "\n",
    "\n",
    "# create route that renders index.html template\n",
    "@app.route(\"/\")\n",
    "def echo():\n",
    "    return render_template(\"index.html\", text=\"adfasdasdf from the Flask server!!\")\n",
    "\n",
    "\n",
    "if __name__ == \"__main__\":\n",
    "    app.run(debug=True)"
   ]
  },
  {
   "cell_type": "code",
   "execution_count": null,
   "metadata": {},
   "outputs": [],
   "source": [
    "# import necessary libraries\n",
    "from flask import Flask, render_template\n",
    "\n",
    "# create instance of Flask app\n",
    "app = Flask(__name__)\n",
    "\n",
    "# Set variables\n",
    "name = \"Aaron\"\n",
    "hobby = \"Baseball\"\n",
    "\n",
    "\n",
    "# create route that renders index.html template\n",
    "@app.route(\"/\")\n",
    "def echo():\n",
    "\n",
    "    return render_template(\"index.html\", name=name, hobby=hobby)\n",
    "\n",
    "\n",
    "# Bonus add a new route\n",
    "@app.route(\"/bonus\")\n",
    "def bonus():\n",
    "\n",
    "    return render_template(\"bonus.html\", name=name, hobby=hobby)\n",
    "\n",
    "\n",
    "if __name__ == \"__main__\":\n",
    "    app.run(debug=True)"
   ]
  }
 ],
 "metadata": {
  "kernelspec": {
   "display_name": "Python 3",
   "language": "python",
   "name": "python3"
  },
  "language_info": {
   "codemirror_mode": {
    "name": "ipython",
    "version": 3
   },
   "file_extension": ".py",
   "mimetype": "text/x-python",
   "name": "python",
   "nbconvert_exporter": "python",
   "pygments_lexer": "ipython3",
   "version": "3.6.12-final"
  }
 },
 "nbformat": 4,
 "nbformat_minor": 2
}